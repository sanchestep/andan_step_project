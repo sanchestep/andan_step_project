{
  "nbformat": 4,
  "nbformat_minor": 0,
  "metadata": {
    "colab": {
      "provenance": []
    },
    "kernelspec": {
      "name": "python3",
      "display_name": "Python 3"
    },
    "language_info": {
      "name": "python"
    }
  },
  "cells": [
    {
      "cell_type": "code",
      "execution_count": 1,
      "metadata": {
        "id": "2o1DLfd1lvVD"
      },
      "outputs": [],
      "source": [
        "import pandas as pd\n",
        "import numpy as np\n",
        "import matplotlib.pyplot as plt"
      ]
    },
    {
      "cell_type": "code",
      "source": [
        "df = pd.read_csv('total.csv', sep=';')"
      ],
      "metadata": {
        "id": "iorsDP76l3IT"
      },
      "execution_count": 2,
      "outputs": []
    },
    {
      "cell_type": "code",
      "source": [
        "df['Current price'] = df['Current price'].str.replace(r'\\$', '')\n",
        "#попросил сгенерить ChatGPT по запросу 'Как убрать знак из элементов списка находящегося в списке'\n",
        "df[['Current price']] = df[['Current price']].astype(float)\n",
        "df"
      ],
      "metadata": {
        "id": "Q4T4QbNWmQ-z",
        "colab": {
          "base_uri": "https://localhost:8080/",
          "height": 1000
        },
        "outputId": "3cfabe73-2f29-4938-a56b-fb636c7fa4d0"
      },
      "execution_count": 3,
      "outputs": [
        {
          "output_type": "stream",
          "name": "stderr",
          "text": [
            "<ipython-input-3-9b8db9e1596f>:1: FutureWarning: The default value of regex will change from True to False in a future version.\n",
            "  df['Current price'] = df['Current price'].str.replace(r'\\$', '')\n"
          ]
        },
        {
          "output_type": "execute_result",
          "data": {
            "text/plain": [
              "                            Game title Amount of recommendations  \\\n",
              "0     Counter-Strike: Global Offensive                 2,999,135   \n",
              "1                  PUBG: BATTLEGROUNDS                 1,382,744   \n",
              "2       Tom Clancy's Rainbow Six Siege                   710,454   \n",
              "3                          Garry's Mod                   557,779   \n",
              "4                             Terraria                   536,708   \n",
              "...                                ...                       ...   \n",
              "2187        Yomawari: Midnight Shadows                       303   \n",
              "2188                             SiNKR                       302   \n",
              "2189                Invisigun Reloaded                       302   \n",
              "2190         Tropico 3: Absolute Power                       302   \n",
              "2191                    Inertial Drift                       301   \n",
              "\n",
              "      Current price Current discount                     Genre  \\\n",
              "0              0.00                0                   Shooter   \n",
              "1             29.99                0                   Shooter   \n",
              "2             19.99                0                   Shooter   \n",
              "3              9.99                0                 Simulator   \n",
              "4              9.99                0                  Platform   \n",
              "...             ...              ...                       ...   \n",
              "2187          19.99                0                    Puzzle   \n",
              "2188           3.99                0                    Puzzle   \n",
              "2189          19.99                0                    Arcade   \n",
              "2190           9.99                0  Real Time Strategy (RTS)   \n",
              "2191          19.99                0                    Racing   \n",
              "\n",
              "                      Publisher     Rating  \\\n",
              "0     Hidden Path Entertainment  81.000000   \n",
              "1               Bluehole Studio  75.062500   \n",
              "2              Ubisoft Montreal  74.166667   \n",
              "3             Facepunch Studios        NaN   \n",
              "4                  Headup Games  81.000000   \n",
              "...                         ...        ...   \n",
              "2187                NIS America  83.000000   \n",
              "2188              Robert Wahler  68.333333   \n",
              "2189           Sombr Studio LLC        NaN   \n",
              "2190            Haemimont Games        NaN   \n",
              "2191     Level 91 Entertainment  82.500000   \n",
              "\n",
              "                                                  Names      Collection  \\\n",
              "0     Counter-Strike: Ofensiva Global, Counterstrike...  Counter-Strike   \n",
              "1     Battlegrounds, Player Unknown, PUBG, PLAYERUNK...             NaN   \n",
              "2     R6:S, R6S, R6: Siege, 彩虹六号：围攻, Regenbogen 6 Be...     Rainbow Six   \n",
              "3                             GMod, 게리 모드, gmod 9, gmod             NaN   \n",
              "4     Terraria: Journey's End, テラリア, 테라리아 (Terraria)...        Terraria   \n",
              "...                                                 ...             ...   \n",
              "2187                                                深夜廻             NaN   \n",
              "2188                                        シズめル, SiNKR             NaN   \n",
              "2189                                   Invisigun Heroes             NaN   \n",
              "2190  Тропико 3: Абсолютная власть. Дополнение, トロピコ...         Tropico   \n",
              "2191                                           이너셜 드리프트             NaN   \n",
              "\n",
              "         Release           engine  \\\n",
              "0     21-08-2012           Source   \n",
              "1     20-12-2017  Unreal Engine 4   \n",
              "2     01-12-2020        AnvilNext   \n",
              "3     24-12-2004           Source   \n",
              "4     16-05-2011              NaN   \n",
              "...          ...              ...   \n",
              "2187  24-10-2017              NaN   \n",
              "2188  12-10-2017              NaN   \n",
              "2189  22-08-2019              NaN   \n",
              "2190  17-05-2010              NaN   \n",
              "2191  11-09-2020              NaN   \n",
              "\n",
              "                                              Platforms  \n",
              "0     Linux, PC (Microsoft Windows), PlayStation 3, ...  \n",
              "1     PC (Microsoft Windows), PlayStation 4, Xbox On...  \n",
              "2     PC (Microsoft Windows), PlayStation 4, Xbox On...  \n",
              "3                    Linux, PC (Microsoft Windows), Mac  \n",
              "4     Linux, PC (Microsoft Windows), PlayStation 3, ...  \n",
              "...                                                 ...  \n",
              "2187  PC (Microsoft Windows), PlayStation Vita, Play...  \n",
              "2188  Linux, PC (Microsoft Windows), Mac, iOS, Xbox One  \n",
              "2189  Linux, PC (Microsoft Windows), Mac, iOS, PlayS...  \n",
              "2190                             PC (Microsoft Windows)  \n",
              "2191  PC (Microsoft Windows), PlayStation 4, Xbox On...  \n",
              "\n",
              "[2192 rows x 12 columns]"
            ],
            "text/html": [
              "\n",
              "  <div id=\"df-c94c8825-85f8-46c0-90a2-deceb7d0a0cb\">\n",
              "    <div class=\"colab-df-container\">\n",
              "      <div>\n",
              "<style scoped>\n",
              "    .dataframe tbody tr th:only-of-type {\n",
              "        vertical-align: middle;\n",
              "    }\n",
              "\n",
              "    .dataframe tbody tr th {\n",
              "        vertical-align: top;\n",
              "    }\n",
              "\n",
              "    .dataframe thead th {\n",
              "        text-align: right;\n",
              "    }\n",
              "</style>\n",
              "<table border=\"1\" class=\"dataframe\">\n",
              "  <thead>\n",
              "    <tr style=\"text-align: right;\">\n",
              "      <th></th>\n",
              "      <th>Game title</th>\n",
              "      <th>Amount of recommendations</th>\n",
              "      <th>Current price</th>\n",
              "      <th>Current discount</th>\n",
              "      <th>Genre</th>\n",
              "      <th>Publisher</th>\n",
              "      <th>Rating</th>\n",
              "      <th>Names</th>\n",
              "      <th>Collection</th>\n",
              "      <th>Release</th>\n",
              "      <th>engine</th>\n",
              "      <th>Platforms</th>\n",
              "    </tr>\n",
              "  </thead>\n",
              "  <tbody>\n",
              "    <tr>\n",
              "      <th>0</th>\n",
              "      <td>Counter-Strike: Global Offensive</td>\n",
              "      <td>2,999,135</td>\n",
              "      <td>0.00</td>\n",
              "      <td>0</td>\n",
              "      <td>Shooter</td>\n",
              "      <td>Hidden Path Entertainment</td>\n",
              "      <td>81.000000</td>\n",
              "      <td>Counter-Strike: Ofensiva Global, Counterstrike...</td>\n",
              "      <td>Counter-Strike</td>\n",
              "      <td>21-08-2012</td>\n",
              "      <td>Source</td>\n",
              "      <td>Linux, PC (Microsoft Windows), PlayStation 3, ...</td>\n",
              "    </tr>\n",
              "    <tr>\n",
              "      <th>1</th>\n",
              "      <td>PUBG: BATTLEGROUNDS</td>\n",
              "      <td>1,382,744</td>\n",
              "      <td>29.99</td>\n",
              "      <td>0</td>\n",
              "      <td>Shooter</td>\n",
              "      <td>Bluehole Studio</td>\n",
              "      <td>75.062500</td>\n",
              "      <td>Battlegrounds, Player Unknown, PUBG, PLAYERUNK...</td>\n",
              "      <td>NaN</td>\n",
              "      <td>20-12-2017</td>\n",
              "      <td>Unreal Engine 4</td>\n",
              "      <td>PC (Microsoft Windows), PlayStation 4, Xbox On...</td>\n",
              "    </tr>\n",
              "    <tr>\n",
              "      <th>2</th>\n",
              "      <td>Tom Clancy's Rainbow Six Siege</td>\n",
              "      <td>710,454</td>\n",
              "      <td>19.99</td>\n",
              "      <td>0</td>\n",
              "      <td>Shooter</td>\n",
              "      <td>Ubisoft Montreal</td>\n",
              "      <td>74.166667</td>\n",
              "      <td>R6:S, R6S, R6: Siege, 彩虹六号：围攻, Regenbogen 6 Be...</td>\n",
              "      <td>Rainbow Six</td>\n",
              "      <td>01-12-2020</td>\n",
              "      <td>AnvilNext</td>\n",
              "      <td>PC (Microsoft Windows), PlayStation 4, Xbox On...</td>\n",
              "    </tr>\n",
              "    <tr>\n",
              "      <th>3</th>\n",
              "      <td>Garry's Mod</td>\n",
              "      <td>557,779</td>\n",
              "      <td>9.99</td>\n",
              "      <td>0</td>\n",
              "      <td>Simulator</td>\n",
              "      <td>Facepunch Studios</td>\n",
              "      <td>NaN</td>\n",
              "      <td>GMod, 게리 모드, gmod 9, gmod</td>\n",
              "      <td>NaN</td>\n",
              "      <td>24-12-2004</td>\n",
              "      <td>Source</td>\n",
              "      <td>Linux, PC (Microsoft Windows), Mac</td>\n",
              "    </tr>\n",
              "    <tr>\n",
              "      <th>4</th>\n",
              "      <td>Terraria</td>\n",
              "      <td>536,708</td>\n",
              "      <td>9.99</td>\n",
              "      <td>0</td>\n",
              "      <td>Platform</td>\n",
              "      <td>Headup Games</td>\n",
              "      <td>81.000000</td>\n",
              "      <td>Terraria: Journey's End, テラリア, 테라리아 (Terraria)...</td>\n",
              "      <td>Terraria</td>\n",
              "      <td>16-05-2011</td>\n",
              "      <td>NaN</td>\n",
              "      <td>Linux, PC (Microsoft Windows), PlayStation 3, ...</td>\n",
              "    </tr>\n",
              "    <tr>\n",
              "      <th>...</th>\n",
              "      <td>...</td>\n",
              "      <td>...</td>\n",
              "      <td>...</td>\n",
              "      <td>...</td>\n",
              "      <td>...</td>\n",
              "      <td>...</td>\n",
              "      <td>...</td>\n",
              "      <td>...</td>\n",
              "      <td>...</td>\n",
              "      <td>...</td>\n",
              "      <td>...</td>\n",
              "      <td>...</td>\n",
              "    </tr>\n",
              "    <tr>\n",
              "      <th>2187</th>\n",
              "      <td>Yomawari: Midnight Shadows</td>\n",
              "      <td>303</td>\n",
              "      <td>19.99</td>\n",
              "      <td>0</td>\n",
              "      <td>Puzzle</td>\n",
              "      <td>NIS America</td>\n",
              "      <td>83.000000</td>\n",
              "      <td>深夜廻</td>\n",
              "      <td>NaN</td>\n",
              "      <td>24-10-2017</td>\n",
              "      <td>NaN</td>\n",
              "      <td>PC (Microsoft Windows), PlayStation Vita, Play...</td>\n",
              "    </tr>\n",
              "    <tr>\n",
              "      <th>2188</th>\n",
              "      <td>SiNKR</td>\n",
              "      <td>302</td>\n",
              "      <td>3.99</td>\n",
              "      <td>0</td>\n",
              "      <td>Puzzle</td>\n",
              "      <td>Robert Wahler</td>\n",
              "      <td>68.333333</td>\n",
              "      <td>シズめル, SiNKR</td>\n",
              "      <td>NaN</td>\n",
              "      <td>12-10-2017</td>\n",
              "      <td>NaN</td>\n",
              "      <td>Linux, PC (Microsoft Windows), Mac, iOS, Xbox One</td>\n",
              "    </tr>\n",
              "    <tr>\n",
              "      <th>2189</th>\n",
              "      <td>Invisigun Reloaded</td>\n",
              "      <td>302</td>\n",
              "      <td>19.99</td>\n",
              "      <td>0</td>\n",
              "      <td>Arcade</td>\n",
              "      <td>Sombr Studio LLC</td>\n",
              "      <td>NaN</td>\n",
              "      <td>Invisigun Heroes</td>\n",
              "      <td>NaN</td>\n",
              "      <td>22-08-2019</td>\n",
              "      <td>NaN</td>\n",
              "      <td>Linux, PC (Microsoft Windows), Mac, iOS, PlayS...</td>\n",
              "    </tr>\n",
              "    <tr>\n",
              "      <th>2190</th>\n",
              "      <td>Tropico 3: Absolute Power</td>\n",
              "      <td>302</td>\n",
              "      <td>9.99</td>\n",
              "      <td>0</td>\n",
              "      <td>Real Time Strategy (RTS)</td>\n",
              "      <td>Haemimont Games</td>\n",
              "      <td>NaN</td>\n",
              "      <td>Тропико 3: Абсолютная власть. Дополнение, トロピコ...</td>\n",
              "      <td>Tropico</td>\n",
              "      <td>17-05-2010</td>\n",
              "      <td>NaN</td>\n",
              "      <td>PC (Microsoft Windows)</td>\n",
              "    </tr>\n",
              "    <tr>\n",
              "      <th>2191</th>\n",
              "      <td>Inertial Drift</td>\n",
              "      <td>301</td>\n",
              "      <td>19.99</td>\n",
              "      <td>0</td>\n",
              "      <td>Racing</td>\n",
              "      <td>Level 91 Entertainment</td>\n",
              "      <td>82.500000</td>\n",
              "      <td>이너셜 드리프트</td>\n",
              "      <td>NaN</td>\n",
              "      <td>11-09-2020</td>\n",
              "      <td>NaN</td>\n",
              "      <td>PC (Microsoft Windows), PlayStation 4, Xbox On...</td>\n",
              "    </tr>\n",
              "  </tbody>\n",
              "</table>\n",
              "<p>2192 rows × 12 columns</p>\n",
              "</div>\n",
              "      <button class=\"colab-df-convert\" onclick=\"convertToInteractive('df-c94c8825-85f8-46c0-90a2-deceb7d0a0cb')\"\n",
              "              title=\"Convert this dataframe to an interactive table.\"\n",
              "              style=\"display:none;\">\n",
              "        \n",
              "  <svg xmlns=\"http://www.w3.org/2000/svg\" height=\"24px\"viewBox=\"0 0 24 24\"\n",
              "       width=\"24px\">\n",
              "    <path d=\"M0 0h24v24H0V0z\" fill=\"none\"/>\n",
              "    <path d=\"M18.56 5.44l.94 2.06.94-2.06 2.06-.94-2.06-.94-.94-2.06-.94 2.06-2.06.94zm-11 1L8.5 8.5l.94-2.06 2.06-.94-2.06-.94L8.5 2.5l-.94 2.06-2.06.94zm10 10l.94 2.06.94-2.06 2.06-.94-2.06-.94-.94-2.06-.94 2.06-2.06.94z\"/><path d=\"M17.41 7.96l-1.37-1.37c-.4-.4-.92-.59-1.43-.59-.52 0-1.04.2-1.43.59L10.3 9.45l-7.72 7.72c-.78.78-.78 2.05 0 2.83L4 21.41c.39.39.9.59 1.41.59.51 0 1.02-.2 1.41-.59l7.78-7.78 2.81-2.81c.8-.78.8-2.07 0-2.86zM5.41 20L4 18.59l7.72-7.72 1.47 1.35L5.41 20z\"/>\n",
              "  </svg>\n",
              "      </button>\n",
              "      \n",
              "  <style>\n",
              "    .colab-df-container {\n",
              "      display:flex;\n",
              "      flex-wrap:wrap;\n",
              "      gap: 12px;\n",
              "    }\n",
              "\n",
              "    .colab-df-convert {\n",
              "      background-color: #E8F0FE;\n",
              "      border: none;\n",
              "      border-radius: 50%;\n",
              "      cursor: pointer;\n",
              "      display: none;\n",
              "      fill: #1967D2;\n",
              "      height: 32px;\n",
              "      padding: 0 0 0 0;\n",
              "      width: 32px;\n",
              "    }\n",
              "\n",
              "    .colab-df-convert:hover {\n",
              "      background-color: #E2EBFA;\n",
              "      box-shadow: 0px 1px 2px rgba(60, 64, 67, 0.3), 0px 1px 3px 1px rgba(60, 64, 67, 0.15);\n",
              "      fill: #174EA6;\n",
              "    }\n",
              "\n",
              "    [theme=dark] .colab-df-convert {\n",
              "      background-color: #3B4455;\n",
              "      fill: #D2E3FC;\n",
              "    }\n",
              "\n",
              "    [theme=dark] .colab-df-convert:hover {\n",
              "      background-color: #434B5C;\n",
              "      box-shadow: 0px 1px 3px 1px rgba(0, 0, 0, 0.15);\n",
              "      filter: drop-shadow(0px 1px 2px rgba(0, 0, 0, 0.3));\n",
              "      fill: #FFFFFF;\n",
              "    }\n",
              "  </style>\n",
              "\n",
              "      <script>\n",
              "        const buttonEl =\n",
              "          document.querySelector('#df-c94c8825-85f8-46c0-90a2-deceb7d0a0cb button.colab-df-convert');\n",
              "        buttonEl.style.display =\n",
              "          google.colab.kernel.accessAllowed ? 'block' : 'none';\n",
              "\n",
              "        async function convertToInteractive(key) {\n",
              "          const element = document.querySelector('#df-c94c8825-85f8-46c0-90a2-deceb7d0a0cb');\n",
              "          const dataTable =\n",
              "            await google.colab.kernel.invokeFunction('convertToInteractive',\n",
              "                                                     [key], {});\n",
              "          if (!dataTable) return;\n",
              "\n",
              "          const docLinkHtml = 'Like what you see? Visit the ' +\n",
              "            '<a target=\"_blank\" href=https://colab.research.google.com/notebooks/data_table.ipynb>data table notebook</a>'\n",
              "            + ' to learn more about interactive tables.';\n",
              "          element.innerHTML = '';\n",
              "          dataTable['output_type'] = 'display_data';\n",
              "          await google.colab.output.renderOutput(dataTable, element);\n",
              "          const docLink = document.createElement('div');\n",
              "          docLink.innerHTML = docLinkHtml;\n",
              "          element.appendChild(docLink);\n",
              "        }\n",
              "      </script>\n",
              "    </div>\n",
              "  </div>\n",
              "  "
            ]
          },
          "metadata": {},
          "execution_count": 3
        }
      ]
    },
    {
      "cell_type": "code",
      "source": [
        "df['Current discount'] = df['Current discount'].apply(lambda x: x.replace('%',''))\n",
        "df[['Current discount']] = abs(df[['Current discount']].astype(int))"
      ],
      "metadata": {
        "id": "9Kbxsha3wdrS"
      },
      "execution_count": 4,
      "outputs": []
    },
    {
      "cell_type": "code",
      "source": [
        "df = df.rename(columns = {'Current discount' : 'Current discount in percent'})"
      ],
      "metadata": {
        "id": "kyTKxP0TyMUR"
      },
      "execution_count": 5,
      "outputs": []
    },
    {
      "cell_type": "code",
      "source": [
        "df['Amount of recommendations'] = df['Amount of recommendations'].apply(lambda x: x.replace(',',''))\n",
        "df[['Amount of recommendations']] = df[['Amount of recommendations']].astype(int)"
      ],
      "metadata": {
        "id": "wzTEGiX52JaG"
      },
      "execution_count": 6,
      "outputs": []
    },
    {
      "cell_type": "code",
      "source": [
        "df['Rating'] = df['Rating'].fillna(df['Rating'].mean())\n",
        "df['Rating'] = df['Rating'].astype(int)"
      ],
      "metadata": {
        "id": "UeqhM5QWTPdt"
      },
      "execution_count": 7,
      "outputs": []
    },
    {
      "cell_type": "code",
      "source": [
        "df['Release'] = [date.split('-')[2] for date in df['Release']]\n",
        "df['Release'] = df['Release'].astype(int)\n",
        "df"
      ],
      "metadata": {
        "colab": {
          "base_uri": "https://localhost:8080/",
          "height": 1000
        },
        "id": "nv_FiuUg3N6B",
        "outputId": "2ae1cd0d-8075-4fc8-f411-a3552bb7cfa0"
      },
      "execution_count": 8,
      "outputs": [
        {
          "output_type": "execute_result",
          "data": {
            "text/plain": [
              "                            Game title  Amount of recommendations  \\\n",
              "0     Counter-Strike: Global Offensive                    2999135   \n",
              "1                  PUBG: BATTLEGROUNDS                    1382744   \n",
              "2       Tom Clancy's Rainbow Six Siege                     710454   \n",
              "3                          Garry's Mod                     557779   \n",
              "4                             Terraria                     536708   \n",
              "...                                ...                        ...   \n",
              "2187        Yomawari: Midnight Shadows                        303   \n",
              "2188                             SiNKR                        302   \n",
              "2189                Invisigun Reloaded                        302   \n",
              "2190         Tropico 3: Absolute Power                        302   \n",
              "2191                    Inertial Drift                        301   \n",
              "\n",
              "      Current price  Current discount in percent                     Genre  \\\n",
              "0              0.00                            0                   Shooter   \n",
              "1             29.99                            0                   Shooter   \n",
              "2             19.99                            0                   Shooter   \n",
              "3              9.99                            0                 Simulator   \n",
              "4              9.99                            0                  Platform   \n",
              "...             ...                          ...                       ...   \n",
              "2187          19.99                            0                    Puzzle   \n",
              "2188           3.99                            0                    Puzzle   \n",
              "2189          19.99                            0                    Arcade   \n",
              "2190           9.99                            0  Real Time Strategy (RTS)   \n",
              "2191          19.99                            0                    Racing   \n",
              "\n",
              "                      Publisher  Rating  \\\n",
              "0     Hidden Path Entertainment      81   \n",
              "1               Bluehole Studio      75   \n",
              "2              Ubisoft Montreal      74   \n",
              "3             Facepunch Studios      74   \n",
              "4                  Headup Games      81   \n",
              "...                         ...     ...   \n",
              "2187                NIS America      83   \n",
              "2188              Robert Wahler      68   \n",
              "2189           Sombr Studio LLC      74   \n",
              "2190            Haemimont Games      74   \n",
              "2191     Level 91 Entertainment      82   \n",
              "\n",
              "                                                  Names      Collection  \\\n",
              "0     Counter-Strike: Ofensiva Global, Counterstrike...  Counter-Strike   \n",
              "1     Battlegrounds, Player Unknown, PUBG, PLAYERUNK...             NaN   \n",
              "2     R6:S, R6S, R6: Siege, 彩虹六号：围攻, Regenbogen 6 Be...     Rainbow Six   \n",
              "3                             GMod, 게리 모드, gmod 9, gmod             NaN   \n",
              "4     Terraria: Journey's End, テラリア, 테라리아 (Terraria)...        Terraria   \n",
              "...                                                 ...             ...   \n",
              "2187                                                深夜廻             NaN   \n",
              "2188                                        シズめル, SiNKR             NaN   \n",
              "2189                                   Invisigun Heroes             NaN   \n",
              "2190  Тропико 3: Абсолютная власть. Дополнение, トロピコ...         Tropico   \n",
              "2191                                           이너셜 드리프트             NaN   \n",
              "\n",
              "      Release           engine  \\\n",
              "0        2012           Source   \n",
              "1        2017  Unreal Engine 4   \n",
              "2        2020        AnvilNext   \n",
              "3        2004           Source   \n",
              "4        2011              NaN   \n",
              "...       ...              ...   \n",
              "2187     2017              NaN   \n",
              "2188     2017              NaN   \n",
              "2189     2019              NaN   \n",
              "2190     2010              NaN   \n",
              "2191     2020              NaN   \n",
              "\n",
              "                                              Platforms  \n",
              "0     Linux, PC (Microsoft Windows), PlayStation 3, ...  \n",
              "1     PC (Microsoft Windows), PlayStation 4, Xbox On...  \n",
              "2     PC (Microsoft Windows), PlayStation 4, Xbox On...  \n",
              "3                    Linux, PC (Microsoft Windows), Mac  \n",
              "4     Linux, PC (Microsoft Windows), PlayStation 3, ...  \n",
              "...                                                 ...  \n",
              "2187  PC (Microsoft Windows), PlayStation Vita, Play...  \n",
              "2188  Linux, PC (Microsoft Windows), Mac, iOS, Xbox One  \n",
              "2189  Linux, PC (Microsoft Windows), Mac, iOS, PlayS...  \n",
              "2190                             PC (Microsoft Windows)  \n",
              "2191  PC (Microsoft Windows), PlayStation 4, Xbox On...  \n",
              "\n",
              "[2192 rows x 12 columns]"
            ],
            "text/html": [
              "\n",
              "  <div id=\"df-d21d214b-3e81-4717-a5b8-7a08848b4701\">\n",
              "    <div class=\"colab-df-container\">\n",
              "      <div>\n",
              "<style scoped>\n",
              "    .dataframe tbody tr th:only-of-type {\n",
              "        vertical-align: middle;\n",
              "    }\n",
              "\n",
              "    .dataframe tbody tr th {\n",
              "        vertical-align: top;\n",
              "    }\n",
              "\n",
              "    .dataframe thead th {\n",
              "        text-align: right;\n",
              "    }\n",
              "</style>\n",
              "<table border=\"1\" class=\"dataframe\">\n",
              "  <thead>\n",
              "    <tr style=\"text-align: right;\">\n",
              "      <th></th>\n",
              "      <th>Game title</th>\n",
              "      <th>Amount of recommendations</th>\n",
              "      <th>Current price</th>\n",
              "      <th>Current discount in percent</th>\n",
              "      <th>Genre</th>\n",
              "      <th>Publisher</th>\n",
              "      <th>Rating</th>\n",
              "      <th>Names</th>\n",
              "      <th>Collection</th>\n",
              "      <th>Release</th>\n",
              "      <th>engine</th>\n",
              "      <th>Platforms</th>\n",
              "    </tr>\n",
              "  </thead>\n",
              "  <tbody>\n",
              "    <tr>\n",
              "      <th>0</th>\n",
              "      <td>Counter-Strike: Global Offensive</td>\n",
              "      <td>2999135</td>\n",
              "      <td>0.00</td>\n",
              "      <td>0</td>\n",
              "      <td>Shooter</td>\n",
              "      <td>Hidden Path Entertainment</td>\n",
              "      <td>81</td>\n",
              "      <td>Counter-Strike: Ofensiva Global, Counterstrike...</td>\n",
              "      <td>Counter-Strike</td>\n",
              "      <td>2012</td>\n",
              "      <td>Source</td>\n",
              "      <td>Linux, PC (Microsoft Windows), PlayStation 3, ...</td>\n",
              "    </tr>\n",
              "    <tr>\n",
              "      <th>1</th>\n",
              "      <td>PUBG: BATTLEGROUNDS</td>\n",
              "      <td>1382744</td>\n",
              "      <td>29.99</td>\n",
              "      <td>0</td>\n",
              "      <td>Shooter</td>\n",
              "      <td>Bluehole Studio</td>\n",
              "      <td>75</td>\n",
              "      <td>Battlegrounds, Player Unknown, PUBG, PLAYERUNK...</td>\n",
              "      <td>NaN</td>\n",
              "      <td>2017</td>\n",
              "      <td>Unreal Engine 4</td>\n",
              "      <td>PC (Microsoft Windows), PlayStation 4, Xbox On...</td>\n",
              "    </tr>\n",
              "    <tr>\n",
              "      <th>2</th>\n",
              "      <td>Tom Clancy's Rainbow Six Siege</td>\n",
              "      <td>710454</td>\n",
              "      <td>19.99</td>\n",
              "      <td>0</td>\n",
              "      <td>Shooter</td>\n",
              "      <td>Ubisoft Montreal</td>\n",
              "      <td>74</td>\n",
              "      <td>R6:S, R6S, R6: Siege, 彩虹六号：围攻, Regenbogen 6 Be...</td>\n",
              "      <td>Rainbow Six</td>\n",
              "      <td>2020</td>\n",
              "      <td>AnvilNext</td>\n",
              "      <td>PC (Microsoft Windows), PlayStation 4, Xbox On...</td>\n",
              "    </tr>\n",
              "    <tr>\n",
              "      <th>3</th>\n",
              "      <td>Garry's Mod</td>\n",
              "      <td>557779</td>\n",
              "      <td>9.99</td>\n",
              "      <td>0</td>\n",
              "      <td>Simulator</td>\n",
              "      <td>Facepunch Studios</td>\n",
              "      <td>74</td>\n",
              "      <td>GMod, 게리 모드, gmod 9, gmod</td>\n",
              "      <td>NaN</td>\n",
              "      <td>2004</td>\n",
              "      <td>Source</td>\n",
              "      <td>Linux, PC (Microsoft Windows), Mac</td>\n",
              "    </tr>\n",
              "    <tr>\n",
              "      <th>4</th>\n",
              "      <td>Terraria</td>\n",
              "      <td>536708</td>\n",
              "      <td>9.99</td>\n",
              "      <td>0</td>\n",
              "      <td>Platform</td>\n",
              "      <td>Headup Games</td>\n",
              "      <td>81</td>\n",
              "      <td>Terraria: Journey's End, テラリア, 테라리아 (Terraria)...</td>\n",
              "      <td>Terraria</td>\n",
              "      <td>2011</td>\n",
              "      <td>NaN</td>\n",
              "      <td>Linux, PC (Microsoft Windows), PlayStation 3, ...</td>\n",
              "    </tr>\n",
              "    <tr>\n",
              "      <th>...</th>\n",
              "      <td>...</td>\n",
              "      <td>...</td>\n",
              "      <td>...</td>\n",
              "      <td>...</td>\n",
              "      <td>...</td>\n",
              "      <td>...</td>\n",
              "      <td>...</td>\n",
              "      <td>...</td>\n",
              "      <td>...</td>\n",
              "      <td>...</td>\n",
              "      <td>...</td>\n",
              "      <td>...</td>\n",
              "    </tr>\n",
              "    <tr>\n",
              "      <th>2187</th>\n",
              "      <td>Yomawari: Midnight Shadows</td>\n",
              "      <td>303</td>\n",
              "      <td>19.99</td>\n",
              "      <td>0</td>\n",
              "      <td>Puzzle</td>\n",
              "      <td>NIS America</td>\n",
              "      <td>83</td>\n",
              "      <td>深夜廻</td>\n",
              "      <td>NaN</td>\n",
              "      <td>2017</td>\n",
              "      <td>NaN</td>\n",
              "      <td>PC (Microsoft Windows), PlayStation Vita, Play...</td>\n",
              "    </tr>\n",
              "    <tr>\n",
              "      <th>2188</th>\n",
              "      <td>SiNKR</td>\n",
              "      <td>302</td>\n",
              "      <td>3.99</td>\n",
              "      <td>0</td>\n",
              "      <td>Puzzle</td>\n",
              "      <td>Robert Wahler</td>\n",
              "      <td>68</td>\n",
              "      <td>シズめル, SiNKR</td>\n",
              "      <td>NaN</td>\n",
              "      <td>2017</td>\n",
              "      <td>NaN</td>\n",
              "      <td>Linux, PC (Microsoft Windows), Mac, iOS, Xbox One</td>\n",
              "    </tr>\n",
              "    <tr>\n",
              "      <th>2189</th>\n",
              "      <td>Invisigun Reloaded</td>\n",
              "      <td>302</td>\n",
              "      <td>19.99</td>\n",
              "      <td>0</td>\n",
              "      <td>Arcade</td>\n",
              "      <td>Sombr Studio LLC</td>\n",
              "      <td>74</td>\n",
              "      <td>Invisigun Heroes</td>\n",
              "      <td>NaN</td>\n",
              "      <td>2019</td>\n",
              "      <td>NaN</td>\n",
              "      <td>Linux, PC (Microsoft Windows), Mac, iOS, PlayS...</td>\n",
              "    </tr>\n",
              "    <tr>\n",
              "      <th>2190</th>\n",
              "      <td>Tropico 3: Absolute Power</td>\n",
              "      <td>302</td>\n",
              "      <td>9.99</td>\n",
              "      <td>0</td>\n",
              "      <td>Real Time Strategy (RTS)</td>\n",
              "      <td>Haemimont Games</td>\n",
              "      <td>74</td>\n",
              "      <td>Тропико 3: Абсолютная власть. Дополнение, トロピコ...</td>\n",
              "      <td>Tropico</td>\n",
              "      <td>2010</td>\n",
              "      <td>NaN</td>\n",
              "      <td>PC (Microsoft Windows)</td>\n",
              "    </tr>\n",
              "    <tr>\n",
              "      <th>2191</th>\n",
              "      <td>Inertial Drift</td>\n",
              "      <td>301</td>\n",
              "      <td>19.99</td>\n",
              "      <td>0</td>\n",
              "      <td>Racing</td>\n",
              "      <td>Level 91 Entertainment</td>\n",
              "      <td>82</td>\n",
              "      <td>이너셜 드리프트</td>\n",
              "      <td>NaN</td>\n",
              "      <td>2020</td>\n",
              "      <td>NaN</td>\n",
              "      <td>PC (Microsoft Windows), PlayStation 4, Xbox On...</td>\n",
              "    </tr>\n",
              "  </tbody>\n",
              "</table>\n",
              "<p>2192 rows × 12 columns</p>\n",
              "</div>\n",
              "      <button class=\"colab-df-convert\" onclick=\"convertToInteractive('df-d21d214b-3e81-4717-a5b8-7a08848b4701')\"\n",
              "              title=\"Convert this dataframe to an interactive table.\"\n",
              "              style=\"display:none;\">\n",
              "        \n",
              "  <svg xmlns=\"http://www.w3.org/2000/svg\" height=\"24px\"viewBox=\"0 0 24 24\"\n",
              "       width=\"24px\">\n",
              "    <path d=\"M0 0h24v24H0V0z\" fill=\"none\"/>\n",
              "    <path d=\"M18.56 5.44l.94 2.06.94-2.06 2.06-.94-2.06-.94-.94-2.06-.94 2.06-2.06.94zm-11 1L8.5 8.5l.94-2.06 2.06-.94-2.06-.94L8.5 2.5l-.94 2.06-2.06.94zm10 10l.94 2.06.94-2.06 2.06-.94-2.06-.94-.94-2.06-.94 2.06-2.06.94z\"/><path d=\"M17.41 7.96l-1.37-1.37c-.4-.4-.92-.59-1.43-.59-.52 0-1.04.2-1.43.59L10.3 9.45l-7.72 7.72c-.78.78-.78 2.05 0 2.83L4 21.41c.39.39.9.59 1.41.59.51 0 1.02-.2 1.41-.59l7.78-7.78 2.81-2.81c.8-.78.8-2.07 0-2.86zM5.41 20L4 18.59l7.72-7.72 1.47 1.35L5.41 20z\"/>\n",
              "  </svg>\n",
              "      </button>\n",
              "      \n",
              "  <style>\n",
              "    .colab-df-container {\n",
              "      display:flex;\n",
              "      flex-wrap:wrap;\n",
              "      gap: 12px;\n",
              "    }\n",
              "\n",
              "    .colab-df-convert {\n",
              "      background-color: #E8F0FE;\n",
              "      border: none;\n",
              "      border-radius: 50%;\n",
              "      cursor: pointer;\n",
              "      display: none;\n",
              "      fill: #1967D2;\n",
              "      height: 32px;\n",
              "      padding: 0 0 0 0;\n",
              "      width: 32px;\n",
              "    }\n",
              "\n",
              "    .colab-df-convert:hover {\n",
              "      background-color: #E2EBFA;\n",
              "      box-shadow: 0px 1px 2px rgba(60, 64, 67, 0.3), 0px 1px 3px 1px rgba(60, 64, 67, 0.15);\n",
              "      fill: #174EA6;\n",
              "    }\n",
              "\n",
              "    [theme=dark] .colab-df-convert {\n",
              "      background-color: #3B4455;\n",
              "      fill: #D2E3FC;\n",
              "    }\n",
              "\n",
              "    [theme=dark] .colab-df-convert:hover {\n",
              "      background-color: #434B5C;\n",
              "      box-shadow: 0px 1px 3px 1px rgba(0, 0, 0, 0.15);\n",
              "      filter: drop-shadow(0px 1px 2px rgba(0, 0, 0, 0.3));\n",
              "      fill: #FFFFFF;\n",
              "    }\n",
              "  </style>\n",
              "\n",
              "      <script>\n",
              "        const buttonEl =\n",
              "          document.querySelector('#df-d21d214b-3e81-4717-a5b8-7a08848b4701 button.colab-df-convert');\n",
              "        buttonEl.style.display =\n",
              "          google.colab.kernel.accessAllowed ? 'block' : 'none';\n",
              "\n",
              "        async function convertToInteractive(key) {\n",
              "          const element = document.querySelector('#df-d21d214b-3e81-4717-a5b8-7a08848b4701');\n",
              "          const dataTable =\n",
              "            await google.colab.kernel.invokeFunction('convertToInteractive',\n",
              "                                                     [key], {});\n",
              "          if (!dataTable) return;\n",
              "\n",
              "          const docLinkHtml = 'Like what you see? Visit the ' +\n",
              "            '<a target=\"_blank\" href=https://colab.research.google.com/notebooks/data_table.ipynb>data table notebook</a>'\n",
              "            + ' to learn more about interactive tables.';\n",
              "          element.innerHTML = '';\n",
              "          dataTable['output_type'] = 'display_data';\n",
              "          await google.colab.output.renderOutput(dataTable, element);\n",
              "          const docLink = document.createElement('div');\n",
              "          docLink.innerHTML = docLinkHtml;\n",
              "          element.appendChild(docLink);\n",
              "        }\n",
              "      </script>\n",
              "    </div>\n",
              "  </div>\n",
              "  "
            ]
          },
          "metadata": {},
          "execution_count": 8
        }
      ]
    },
    {
      "cell_type": "markdown",
      "source": [
        "Несколько интересных фактов про цены"
      ],
      "metadata": {
        "id": "LJT_JZmA8dKD"
      }
    },
    {
      "cell_type": "code",
      "source": [
        "cnt = 0\n",
        "for i in df['Current price']:\n",
        "  if int(i*100) % 100 == 99:\n",
        "    cnt += 1\n",
        "cnt"
      ],
      "metadata": {
        "colab": {
          "base_uri": "https://localhost:8080/"
        },
        "id": "gR2iPopI9lnY",
        "outputId": "9e99697e-b334-47c2-f754-519b66cc29cf"
      },
      "execution_count": 9,
      "outputs": [
        {
          "output_type": "execute_result",
          "data": {
            "text/plain": [
              "1613"
            ]
          },
          "metadata": {},
          "execution_count": 9
        }
      ]
    },
    {
      "cell_type": "markdown",
      "source": [
        "Забавный факт, что в 1613 игр из 2192 цена является не круглой, а меньше на 1 цент (например, 19.99)."
      ],
      "metadata": {
        "id": "GZki8kIu9-Vm"
      }
    },
    {
      "cell_type": "code",
      "source": [
        "df['Current price'].mode().values[0]"
      ],
      "metadata": {
        "colab": {
          "base_uri": "https://localhost:8080/"
        },
        "id": "3LGdkU0G793P",
        "outputId": "8f5b335f-48fe-4c99-e021-6b25a91df89a"
      },
      "execution_count": 10,
      "outputs": [
        {
          "output_type": "execute_result",
          "data": {
            "text/plain": [
              "19.99"
            ]
          },
          "metadata": {},
          "execution_count": 10
        }
      ]
    },
    {
      "cell_type": "code",
      "source": [
        "df['Current price'].max()"
      ],
      "metadata": {
        "colab": {
          "base_uri": "https://localhost:8080/"
        },
        "id": "IuiwBFov8P4b",
        "outputId": "7300dcae-ab4c-4798-d6e9-376b28294cce"
      },
      "execution_count": 11,
      "outputs": [
        {
          "output_type": "execute_result",
          "data": {
            "text/plain": [
              "79.99"
            ]
          },
          "metadata": {},
          "execution_count": 11
        }
      ]
    },
    {
      "cell_type": "code",
      "source": [
        "df['Current price'].min()"
      ],
      "metadata": {
        "colab": {
          "base_uri": "https://localhost:8080/"
        },
        "id": "NLEOzHqW8Tba",
        "outputId": "7a32904b-b92b-48d7-e19e-73b3e35a7ebf"
      },
      "execution_count": 12,
      "outputs": [
        {
          "output_type": "execute_result",
          "data": {
            "text/plain": [
              "0.0"
            ]
          },
          "metadata": {},
          "execution_count": 12
        }
      ]
    },
    {
      "cell_type": "code",
      "source": [
        "round(df['Current price'].mean(), 2)"
      ],
      "metadata": {
        "colab": {
          "base_uri": "https://localhost:8080/"
        },
        "id": "-kwpYoIw8Zpe",
        "outputId": "165abb83-bb07-4d10-b460-0288f8b2d550"
      },
      "execution_count": 13,
      "outputs": [
        {
          "output_type": "execute_result",
          "data": {
            "text/plain": [
              "17.89"
            ]
          },
          "metadata": {},
          "execution_count": 13
        }
      ]
    },
    {
      "cell_type": "markdown",
      "source": [
        "Интересно заметить, что наиболее популярная цена на игры среди выборки это 19.99, средняя - 17.89, максимальная - 79.99, минимальная - 0.00. Можно также обратить внимание, что в выборке данные распределены асимметрично, так как средняя цена меньше моды на 2.1 долларов."
      ],
      "metadata": {
        "id": "A3H9gvtC8HKn"
      }
    },
    {
      "cell_type": "code",
      "source": [
        "plt.hist(df['Current price'], bins = 20)\n",
        "plt.xlabel('Цена')\n",
        "plt.ylabel('Частота')\n",
        "plt.title('Частота цен на игры в Steam');"
      ],
      "metadata": {
        "id": "Jhy2udSeyrYC",
        "colab": {
          "base_uri": "https://localhost:8080/",
          "height": 472
        },
        "outputId": "05c1b0ec-971c-414a-adce-79f6d21fa765"
      },
      "execution_count": 14,
      "outputs": [
        {
          "output_type": "display_data",
          "data": {
            "text/plain": [
              "<Figure size 640x480 with 1 Axes>"
            ],
            "image/png": "[encoded data removed]"
          },
          "metadata": {}
        }
      ]
    },
    {
      "cell_type": "code",
      "source": [
        "plt.scatter(df['Current discount in percent'], df['Amount of recommendations'])\n",
        "plt.title('Диаграмма рассеивания текущей скидки и количества рекомендаций');"
      ],
      "metadata": {
        "colab": {
          "base_uri": "https://localhost:8080/",
          "height": 467
        },
        "id": "-VkZENuKEkYB",
        "outputId": "05256d21-739e-4cef-b393-c53100777208"
      },
      "execution_count": 80,
      "outputs": [
        {
          "output_type": "display_data",
          "data": {
            "text/plain": [
              "<Figure size 640x480 with 1 Axes>"
            ],
            "image/png": "[encoded data removed]"
          },
          "metadata": {}
        }
      ]
    },
    {
      "cell_type": "markdown",
      "source": [
        "По диаграмме можно заметить, что особой корреляции между этими признаками нет"
      ],
      "metadata": {
        "id": "oyFZ-LX6Hh6K"
      }
    },
    {
      "cell_type": "code",
      "source": [
        "df['Current discount in percent'].corr(df['Amount of recommendations'])"
      ],
      "metadata": {
        "colab": {
          "base_uri": "https://localhost:8080/"
        },
        "id": "EPX1hrDDHosu",
        "outputId": "dfcdc308-d042-4f13-e881-dd76ac8916a4"
      },
      "execution_count": 81,
      "outputs": [
        {
          "output_type": "execute_result",
          "data": {
            "text/plain": [
              "0.003367349477991971"
            ]
          },
          "metadata": {},
          "execution_count": 81
        }
      ]
    },
    {
      "cell_type": "markdown",
      "source": [
        "Посчитанная корреляция Пирсона подтверждает предыдущее утверждение"
      ],
      "metadata": {
        "id": "Nkh5AQYqHttl"
      }
    },
    {
      "cell_type": "code",
      "source": [
        "df['Release'].mode().values[0]"
      ],
      "metadata": {
        "colab": {
          "base_uri": "https://localhost:8080/"
        },
        "id": "LeqWf_r6UKjH",
        "outputId": "5e1b08e0-6cc6-449a-eba0-f012c629fda1"
      },
      "execution_count": 15,
      "outputs": [
        {
          "output_type": "execute_result",
          "data": {
            "text/plain": [
              "2019"
            ]
          },
          "metadata": {},
          "execution_count": 15
        }
      ]
    },
    {
      "cell_type": "markdown",
      "source": [
        "Самым популярным годом выпуска является 2019 год."
      ],
      "metadata": {
        "id": "XmBn0TG-ar0W"
      }
    },
    {
      "cell_type": "markdown",
      "source": [
        "Можно посмотреть, как изменялось количество выпущенных игр с каждым годом"
      ],
      "metadata": {
        "id": "xTl-t9kU-Ci8"
      }
    },
    {
      "cell_type": "code",
      "source": [
        "plt.bar(df.groupby('Release').size().index, df.groupby('Release').size().values)\n",
        "plt.xlabel('Год')\n",
        "plt.ylabel('Количество игр')\n",
        "plt.title('Динамика количества выпущенных игр с каждым годом');"
      ],
      "metadata": {
        "colab": {
          "base_uri": "https://localhost:8080/",
          "height": 472
        },
        "id": "pZkMQqty-LvL",
        "outputId": "449d3952-1448-424b-d866-d2e50f6eb857"
      },
      "execution_count": 37,
      "outputs": [
        {
          "output_type": "display_data",
          "data": {
            "text/plain": [
              "<Figure size 640x480 with 1 Axes>"
            ],
            "image/png": "[encoded data removed]"
          },
          "metadata": {}
        }
      ]
    },
    {
      "cell_type": "markdown",
      "source": [
        "Как можно заметить, с каждым годов выпускалось всё больше игр, но в последние 2 года динамика стала немного меньше"
      ],
      "metadata": {
        "id": "KnzJYLzm_pk8"
      }
    },
    {
      "cell_type": "markdown",
      "source": [
        "Для удобства в колонке Engine посчитаем одинаковые движки разных версий, а именно Source и Source 2 и Unreal Engine 1-4, как одни движки Source и Unreal Engine"
      ],
      "metadata": {
        "id": "oz1nVS7cc3l_"
      }
    },
    {
      "cell_type": "code",
      "source": [
        "df['engine'] = df['engine'].astype(str)"
      ],
      "metadata": {
        "id": "4aeSGXKlcuzY"
      },
      "execution_count": 16,
      "outputs": []
    },
    {
      "cell_type": "code",
      "source": [
        "lst = [x for x in df['engine'] if x.startswith('Unreal')]"
      ],
      "metadata": {
        "id": "UmA8odlpb-g3"
      },
      "execution_count": 17,
      "outputs": []
    },
    {
      "cell_type": "code",
      "source": [
        "df['engine'].loc[df['engine'].str.startswith('Unreal')] = 'Unreal Engine'"
      ],
      "metadata": {
        "colab": {
          "base_uri": "https://localhost:8080/"
        },
        "id": "sCgqSGnGedjG",
        "outputId": "2389f408-a46d-477d-d396-1703f9118b9c"
      },
      "execution_count": 18,
      "outputs": [
        {
          "output_type": "stream",
          "name": "stderr",
          "text": [
            "<ipython-input-18-10eb96f4bce5>:1: SettingWithCopyWarning: \n",
            "A value is trying to be set on a copy of a slice from a DataFrame\n",
            "\n",
            "See the caveats in the documentation: https://pandas.pydata.org/pandas-docs/stable/user_guide/indexing.html#returning-a-view-versus-a-copy\n",
            "  df['engine'].loc[df['engine'].str.startswith('Unreal')] = 'Unreal Engine'\n"
          ]
        }
      ]
    },
    {
      "cell_type": "code",
      "source": [
        "df['engine'].loc[df['engine'].str.startswith('Source')] = 'Source'"
      ],
      "metadata": {
        "colab": {
          "base_uri": "https://localhost:8080/"
        },
        "id": "EYpWA2pGfrq5",
        "outputId": "396b5190-f92c-467f-8088-cfb8758b2218"
      },
      "execution_count": 19,
      "outputs": [
        {
          "output_type": "stream",
          "name": "stderr",
          "text": [
            "<ipython-input-19-9efc550ba217>:1: SettingWithCopyWarning: \n",
            "A value is trying to be set on a copy of a slice from a DataFrame\n",
            "\n",
            "See the caveats in the documentation: https://pandas.pydata.org/pandas-docs/stable/user_guide/indexing.html#returning-a-view-versus-a-copy\n",
            "  df['engine'].loc[df['engine'].str.startswith('Source')] = 'Source'\n"
          ]
        }
      ]
    },
    {
      "cell_type": "markdown",
      "source": [
        "Посчитаем nan движки как один определённый Unique"
      ],
      "metadata": {
        "id": "6fUCF6xiimRT"
      }
    },
    {
      "cell_type": "code",
      "source": [
        "df['engine'] = df['engine'].replace('nan', 'Unique')"
      ],
      "metadata": {
        "id": "dSId29S8ispu"
      },
      "execution_count": 20,
      "outputs": []
    },
    {
      "cell_type": "markdown",
      "source": [
        "Добавим колонку Number of Platforms"
      ],
      "metadata": {
        "id": "9C8EnLMQhMiN"
      }
    },
    {
      "cell_type": "code",
      "source": [
        "df['Platforms'].astype(str)\n",
        "def count_elements(types):\n",
        "    return len(types.split(','))\n",
        "df['Number of Platforms'] = df['Platforms'].apply(count_elements)"
      ],
      "metadata": {
        "id": "qP1KJBFrhtuf"
      },
      "execution_count": 21,
      "outputs": []
    },
    {
      "cell_type": "code",
      "source": [
        "df"
      ],
      "metadata": {
        "colab": {
          "base_uri": "https://localhost:8080/",
          "height": 1000
        },
        "id": "WXY5sdx3j3qJ",
        "outputId": "79247c44-69d4-4459-e7c4-4043efc901a6"
      },
      "execution_count": 22,
      "outputs": [
        {
          "output_type": "execute_result",
          "data": {
            "text/plain": [
              "                            Game title  Amount of recommendations  \\\n",
              "0     Counter-Strike: Global Offensive                    2999135   \n",
              "1                  PUBG: BATTLEGROUNDS                    1382744   \n",
              "2       Tom Clancy's Rainbow Six Siege                     710454   \n",
              "3                          Garry's Mod                     557779   \n",
              "4                             Terraria                     536708   \n",
              "...                                ...                        ...   \n",
              "2187        Yomawari: Midnight Shadows                        303   \n",
              "2188                             SiNKR                        302   \n",
              "2189                Invisigun Reloaded                        302   \n",
              "2190         Tropico 3: Absolute Power                        302   \n",
              "2191                    Inertial Drift                        301   \n",
              "\n",
              "      Current price  Current discount in percent                     Genre  \\\n",
              "0              0.00                            0                   Shooter   \n",
              "1             29.99                            0                   Shooter   \n",
              "2             19.99                            0                   Shooter   \n",
              "3              9.99                            0                 Simulator   \n",
              "4              9.99                            0                  Platform   \n",
              "...             ...                          ...                       ...   \n",
              "2187          19.99                            0                    Puzzle   \n",
              "2188           3.99                            0                    Puzzle   \n",
              "2189          19.99                            0                    Arcade   \n",
              "2190           9.99                            0  Real Time Strategy (RTS)   \n",
              "2191          19.99                            0                    Racing   \n",
              "\n",
              "                      Publisher  Rating  \\\n",
              "0     Hidden Path Entertainment      81   \n",
              "1               Bluehole Studio      75   \n",
              "2              Ubisoft Montreal      74   \n",
              "3             Facepunch Studios      74   \n",
              "4                  Headup Games      81   \n",
              "...                         ...     ...   \n",
              "2187                NIS America      83   \n",
              "2188              Robert Wahler      68   \n",
              "2189           Sombr Studio LLC      74   \n",
              "2190            Haemimont Games      74   \n",
              "2191     Level 91 Entertainment      82   \n",
              "\n",
              "                                                  Names      Collection  \\\n",
              "0     Counter-Strike: Ofensiva Global, Counterstrike...  Counter-Strike   \n",
              "1     Battlegrounds, Player Unknown, PUBG, PLAYERUNK...             NaN   \n",
              "2     R6:S, R6S, R6: Siege, 彩虹六号：围攻, Regenbogen 6 Be...     Rainbow Six   \n",
              "3                             GMod, 게리 모드, gmod 9, gmod             NaN   \n",
              "4     Terraria: Journey's End, テラリア, 테라리아 (Terraria)...        Terraria   \n",
              "...                                                 ...             ...   \n",
              "2187                                                深夜廻             NaN   \n",
              "2188                                        シズめル, SiNKR             NaN   \n",
              "2189                                   Invisigun Heroes             NaN   \n",
              "2190  Тропико 3: Абсолютная власть. Дополнение, トロピコ...         Tropico   \n",
              "2191                                           이너셜 드리프트             NaN   \n",
              "\n",
              "      Release         engine  \\\n",
              "0        2012         Source   \n",
              "1        2017  Unreal Engine   \n",
              "2        2020      AnvilNext   \n",
              "3        2004         Source   \n",
              "4        2011         Unique   \n",
              "...       ...            ...   \n",
              "2187     2017         Unique   \n",
              "2188     2017         Unique   \n",
              "2189     2019         Unique   \n",
              "2190     2010         Unique   \n",
              "2191     2020         Unique   \n",
              "\n",
              "                                              Platforms  Number of Platforms  \n",
              "0     Linux, PC (Microsoft Windows), PlayStation 3, ...                    5  \n",
              "1     PC (Microsoft Windows), PlayStation 4, Xbox On...                    4  \n",
              "2     PC (Microsoft Windows), PlayStation 4, Xbox On...                    6  \n",
              "3                    Linux, PC (Microsoft Windows), Mac                    3  \n",
              "4     Linux, PC (Microsoft Windows), PlayStation 3, ...                   15  \n",
              "...                                                 ...                  ...  \n",
              "2187  PC (Microsoft Windows), PlayStation Vita, Play...                    3  \n",
              "2188  Linux, PC (Microsoft Windows), Mac, iOS, Xbox One                    5  \n",
              "2189  Linux, PC (Microsoft Windows), Mac, iOS, PlayS...                    6  \n",
              "2190                             PC (Microsoft Windows)                    1  \n",
              "2191  PC (Microsoft Windows), PlayStation 4, Xbox On...                    6  \n",
              "\n",
              "[2192 rows x 13 columns]"
            ],
            "text/html": [
              "\n",
              "  <div id=\"df-e83cce72-845e-45ee-836f-a633a9f26dfa\">\n",
              "    <div class=\"colab-df-container\">\n",
              "      <div>\n",
              "<style scoped>\n",
              "    .dataframe tbody tr th:only-of-type {\n",
              "        vertical-align: middle;\n",
              "    }\n",
              "\n",
              "    .dataframe tbody tr th {\n",
              "        vertical-align: top;\n",
              "    }\n",
              "\n",
              "    .dataframe thead th {\n",
              "        text-align: right;\n",
              "    }\n",
              "</style>\n",
              "<table border=\"1\" class=\"dataframe\">\n",
              "  <thead>\n",
              "    <tr style=\"text-align: right;\">\n",
              "      <th></th>\n",
              "      <th>Game title</th>\n",
              "      <th>Amount of recommendations</th>\n",
              "      <th>Current price</th>\n",
              "      <th>Current discount in percent</th>\n",
              "      <th>Genre</th>\n",
              "      <th>Publisher</th>\n",
              "      <th>Rating</th>\n",
              "      <th>Names</th>\n",
              "      <th>Collection</th>\n",
              "      <th>Release</th>\n",
              "      <th>engine</th>\n",
              "      <th>Platforms</th>\n",
              "      <th>Number of Platforms</th>\n",
              "    </tr>\n",
              "  </thead>\n",
              "  <tbody>\n",
              "    <tr>\n",
              "      <th>0</th>\n",
              "      <td>Counter-Strike: Global Offensive</td>\n",
              "      <td>2999135</td>\n",
              "      <td>0.00</td>\n",
              "      <td>0</td>\n",
              "      <td>Shooter</td>\n",
              "      <td>Hidden Path Entertainment</td>\n",
              "      <td>81</td>\n",
              "      <td>Counter-Strike: Ofensiva Global, Counterstrike...</td>\n",
              "      <td>Counter-Strike</td>\n",
              "      <td>2012</td>\n",
              "      <td>Source</td>\n",
              "      <td>Linux, PC (Microsoft Windows), PlayStation 3, ...</td>\n",
              "      <td>5</td>\n",
              "    </tr>\n",
              "    <tr>\n",
              "      <th>1</th>\n",
              "      <td>PUBG: BATTLEGROUNDS</td>\n",
              "      <td>1382744</td>\n",
              "      <td>29.99</td>\n",
              "      <td>0</td>\n",
              "      <td>Shooter</td>\n",
              "      <td>Bluehole Studio</td>\n",
              "      <td>75</td>\n",
              "      <td>Battlegrounds, Player Unknown, PUBG, PLAYERUNK...</td>\n",
              "      <td>NaN</td>\n",
              "      <td>2017</td>\n",
              "      <td>Unreal Engine</td>\n",
              "      <td>PC (Microsoft Windows), PlayStation 4, Xbox On...</td>\n",
              "      <td>4</td>\n",
              "    </tr>\n",
              "    <tr>\n",
              "      <th>2</th>\n",
              "      <td>Tom Clancy's Rainbow Six Siege</td>\n",
              "      <td>710454</td>\n",
              "      <td>19.99</td>\n",
              "      <td>0</td>\n",
              "      <td>Shooter</td>\n",
              "      <td>Ubisoft Montreal</td>\n",
              "      <td>74</td>\n",
              "      <td>R6:S, R6S, R6: Siege, 彩虹六号：围攻, Regenbogen 6 Be...</td>\n",
              "      <td>Rainbow Six</td>\n",
              "      <td>2020</td>\n",
              "      <td>AnvilNext</td>\n",
              "      <td>PC (Microsoft Windows), PlayStation 4, Xbox On...</td>\n",
              "      <td>6</td>\n",
              "    </tr>\n",
              "    <tr>\n",
              "      <th>3</th>\n",
              "      <td>Garry's Mod</td>\n",
              "      <td>557779</td>\n",
              "      <td>9.99</td>\n",
              "      <td>0</td>\n",
              "      <td>Simulator</td>\n",
              "      <td>Facepunch Studios</td>\n",
              "      <td>74</td>\n",
              "      <td>GMod, 게리 모드, gmod 9, gmod</td>\n",
              "      <td>NaN</td>\n",
              "      <td>2004</td>\n",
              "      <td>Source</td>\n",
              "      <td>Linux, PC (Microsoft Windows), Mac</td>\n",
              "      <td>3</td>\n",
              "    </tr>\n",
              "    <tr>\n",
              "      <th>4</th>\n",
              "      <td>Terraria</td>\n",
              "      <td>536708</td>\n",
              "      <td>9.99</td>\n",
              "      <td>0</td>\n",
              "      <td>Platform</td>\n",
              "      <td>Headup Games</td>\n",
              "      <td>81</td>\n",
              "      <td>Terraria: Journey's End, テラリア, 테라리아 (Terraria)...</td>\n",
              "      <td>Terraria</td>\n",
              "      <td>2011</td>\n",
              "      <td>Unique</td>\n",
              "      <td>Linux, PC (Microsoft Windows), PlayStation 3, ...</td>\n",
              "      <td>15</td>\n",
              "    </tr>\n",
              "    <tr>\n",
              "      <th>...</th>\n",
              "      <td>...</td>\n",
              "      <td>...</td>\n",
              "      <td>...</td>\n",
              "      <td>...</td>\n",
              "      <td>...</td>\n",
              "      <td>...</td>\n",
              "      <td>...</td>\n",
              "      <td>...</td>\n",
              "      <td>...</td>\n",
              "      <td>...</td>\n",
              "      <td>...</td>\n",
              "      <td>...</td>\n",
              "      <td>...</td>\n",
              "    </tr>\n",
              "    <tr>\n",
              "      <th>2187</th>\n",
              "      <td>Yomawari: Midnight Shadows</td>\n",
              "      <td>303</td>\n",
              "      <td>19.99</td>\n",
              "      <td>0</td>\n",
              "      <td>Puzzle</td>\n",
              "      <td>NIS America</td>\n",
              "      <td>83</td>\n",
              "      <td>深夜廻</td>\n",
              "      <td>NaN</td>\n",
              "      <td>2017</td>\n",
              "      <td>Unique</td>\n",
              "      <td>PC (Microsoft Windows), PlayStation Vita, Play...</td>\n",
              "      <td>3</td>\n",
              "    </tr>\n",
              "    <tr>\n",
              "      <th>2188</th>\n",
              "      <td>SiNKR</td>\n",
              "      <td>302</td>\n",
              "      <td>3.99</td>\n",
              "      <td>0</td>\n",
              "      <td>Puzzle</td>\n",
              "      <td>Robert Wahler</td>\n",
              "      <td>68</td>\n",
              "      <td>シズめル, SiNKR</td>\n",
              "      <td>NaN</td>\n",
              "      <td>2017</td>\n",
              "      <td>Unique</td>\n",
              "      <td>Linux, PC (Microsoft Windows), Mac, iOS, Xbox One</td>\n",
              "      <td>5</td>\n",
              "    </tr>\n",
              "    <tr>\n",
              "      <th>2189</th>\n",
              "      <td>Invisigun Reloaded</td>\n",
              "      <td>302</td>\n",
              "      <td>19.99</td>\n",
              "      <td>0</td>\n",
              "      <td>Arcade</td>\n",
              "      <td>Sombr Studio LLC</td>\n",
              "      <td>74</td>\n",
              "      <td>Invisigun Heroes</td>\n",
              "      <td>NaN</td>\n",
              "      <td>2019</td>\n",
              "      <td>Unique</td>\n",
              "      <td>Linux, PC (Microsoft Windows), Mac, iOS, PlayS...</td>\n",
              "      <td>6</td>\n",
              "    </tr>\n",
              "    <tr>\n",
              "      <th>2190</th>\n",
              "      <td>Tropico 3: Absolute Power</td>\n",
              "      <td>302</td>\n",
              "      <td>9.99</td>\n",
              "      <td>0</td>\n",
              "      <td>Real Time Strategy (RTS)</td>\n",
              "      <td>Haemimont Games</td>\n",
              "      <td>74</td>\n",
              "      <td>Тропико 3: Абсолютная власть. Дополнение, トロピコ...</td>\n",
              "      <td>Tropico</td>\n",
              "      <td>2010</td>\n",
              "      <td>Unique</td>\n",
              "      <td>PC (Microsoft Windows)</td>\n",
              "      <td>1</td>\n",
              "    </tr>\n",
              "    <tr>\n",
              "      <th>2191</th>\n",
              "      <td>Inertial Drift</td>\n",
              "      <td>301</td>\n",
              "      <td>19.99</td>\n",
              "      <td>0</td>\n",
              "      <td>Racing</td>\n",
              "      <td>Level 91 Entertainment</td>\n",
              "      <td>82</td>\n",
              "      <td>이너셜 드리프트</td>\n",
              "      <td>NaN</td>\n",
              "      <td>2020</td>\n",
              "      <td>Unique</td>\n",
              "      <td>PC (Microsoft Windows), PlayStation 4, Xbox On...</td>\n",
              "      <td>6</td>\n",
              "    </tr>\n",
              "  </tbody>\n",
              "</table>\n",
              "<p>2192 rows × 13 columns</p>\n",
              "</div>\n",
              "      <button class=\"colab-df-convert\" onclick=\"convertToInteractive('df-e83cce72-845e-45ee-836f-a633a9f26dfa')\"\n",
              "              title=\"Convert this dataframe to an interactive table.\"\n",
              "              style=\"display:none;\">\n",
              "        \n",
              "  <svg xmlns=\"http://www.w3.org/2000/svg\" height=\"24px\"viewBox=\"0 0 24 24\"\n",
              "       width=\"24px\">\n",
              "    <path d=\"M0 0h24v24H0V0z\" fill=\"none\"/>\n",
              "    <path d=\"M18.56 5.44l.94 2.06.94-2.06 2.06-.94-2.06-.94-.94-2.06-.94 2.06-2.06.94zm-11 1L8.5 8.5l.94-2.06 2.06-.94-2.06-.94L8.5 2.5l-.94 2.06-2.06.94zm10 10l.94 2.06.94-2.06 2.06-.94-2.06-.94-.94-2.06-.94 2.06-2.06.94z\"/><path d=\"M17.41 7.96l-1.37-1.37c-.4-.4-.92-.59-1.43-.59-.52 0-1.04.2-1.43.59L10.3 9.45l-7.72 7.72c-.78.78-.78 2.05 0 2.83L4 21.41c.39.39.9.59 1.41.59.51 0 1.02-.2 1.41-.59l7.78-7.78 2.81-2.81c.8-.78.8-2.07 0-2.86zM5.41 20L4 18.59l7.72-7.72 1.47 1.35L5.41 20z\"/>\n",
              "  </svg>\n",
              "      </button>\n",
              "      \n",
              "  <style>\n",
              "    .colab-df-container {\n",
              "      display:flex;\n",
              "      flex-wrap:wrap;\n",
              "      gap: 12px;\n",
              "    }\n",
              "\n",
              "    .colab-df-convert {\n",
              "      background-color: #E8F0FE;\n",
              "      border: none;\n",
              "      border-radius: 50%;\n",
              "      cursor: pointer;\n",
              "      display: none;\n",
              "      fill: #1967D2;\n",
              "      height: 32px;\n",
              "      padding: 0 0 0 0;\n",
              "      width: 32px;\n",
              "    }\n",
              "\n",
              "    .colab-df-convert:hover {\n",
              "      background-color: #E2EBFA;\n",
              "      box-shadow: 0px 1px 2px rgba(60, 64, 67, 0.3), 0px 1px 3px 1px rgba(60, 64, 67, 0.15);\n",
              "      fill: #174EA6;\n",
              "    }\n",
              "\n",
              "    [theme=dark] .colab-df-convert {\n",
              "      background-color: #3B4455;\n",
              "      fill: #D2E3FC;\n",
              "    }\n",
              "\n",
              "    [theme=dark] .colab-df-convert:hover {\n",
              "      background-color: #434B5C;\n",
              "      box-shadow: 0px 1px 3px 1px rgba(0, 0, 0, 0.15);\n",
              "      filter: drop-shadow(0px 1px 2px rgba(0, 0, 0, 0.3));\n",
              "      fill: #FFFFFF;\n",
              "    }\n",
              "  </style>\n",
              "\n",
              "      <script>\n",
              "        const buttonEl =\n",
              "          document.querySelector('#df-e83cce72-845e-45ee-836f-a633a9f26dfa button.colab-df-convert');\n",
              "        buttonEl.style.display =\n",
              "          google.colab.kernel.accessAllowed ? 'block' : 'none';\n",
              "\n",
              "        async function convertToInteractive(key) {\n",
              "          const element = document.querySelector('#df-e83cce72-845e-45ee-836f-a633a9f26dfa');\n",
              "          const dataTable =\n",
              "            await google.colab.kernel.invokeFunction('convertToInteractive',\n",
              "                                                     [key], {});\n",
              "          if (!dataTable) return;\n",
              "\n",
              "          const docLinkHtml = 'Like what you see? Visit the ' +\n",
              "            '<a target=\"_blank\" href=https://colab.research.google.com/notebooks/data_table.ipynb>data table notebook</a>'\n",
              "            + ' to learn more about interactive tables.';\n",
              "          element.innerHTML = '';\n",
              "          dataTable['output_type'] = 'display_data';\n",
              "          await google.colab.output.renderOutput(dataTable, element);\n",
              "          const docLink = document.createElement('div');\n",
              "          docLink.innerHTML = docLinkHtml;\n",
              "          element.appendChild(docLink);\n",
              "        }\n",
              "      </script>\n",
              "    </div>\n",
              "  </div>\n",
              "  "
            ]
          },
          "metadata": {},
          "execution_count": 22
        }
      ]
    },
    {
      "cell_type": "code",
      "source": [
        "plt.hist(df['Number of Platforms'], bins = 30)\n",
        "plt.xlabel('Количество платформ')\n",
        "plt.title('Частота количества платформ');"
      ],
      "metadata": {
        "colab": {
          "base_uri": "https://localhost:8080/",
          "height": 472
        },
        "id": "lK-wa1lrlycU",
        "outputId": "9cf7d15f-57d3-4f5a-8d36-a801cd98020a"
      },
      "execution_count": 70,
      "outputs": [
        {
          "output_type": "display_data",
          "data": {
            "text/plain": [
              "<Figure size 640x480 with 1 Axes>"
            ],
            "image/png": "[encoded data removed]"
          },
          "metadata": {}
        }
      ]
    },
    {
      "cell_type": "markdown",
      "source": [
        "Больше всего игр выпускаются на 1 либо на 3 платформах"
      ],
      "metadata": {
        "id": "1K7rridqARqD"
      }
    },
    {
      "cell_type": "code",
      "source": [
        "plt.figure(figsize=(10, 6))\n",
        "plt.bar(df['Collection'].value_counts().index[:10], df['Collection'].value_counts().values[:10], width = 0.3)\n",
        "plt.xticks(rotation=45)\n",
        "plt.xlabel('Название серии')\n",
        "plt.ylabel('Количество игр')\n",
        "plt.title('Самые большие игровые серии (включая DLC)');"
      ],
      "metadata": {
        "colab": {
          "base_uri": "https://localhost:8080/",
          "height": 608
        },
        "id": "zNlPiuGcAfl6",
        "outputId": "cb54734d-6b09-4d58-867d-19cdaef223af"
      },
      "execution_count": 62,
      "outputs": [
        {
          "output_type": "display_data",
          "data": {
            "text/plain": [
              "<Figure size 1000x600 with 1 Axes>"
            ],
            "image/png": "[encoded data removed]"
          },
          "metadata": {}
        }
      ]
    },
    {
      "cell_type": "markdown",
      "source": [
        "Топ-10 самых больших игровых серий (включая DLC)"
      ],
      "metadata": {
        "id": "n7XwDx2aDjy8"
      }
    },
    {
      "cell_type": "code",
      "source": [
        "df.corr()"
      ],
      "metadata": {
        "colab": {
          "base_uri": "https://localhost:8080/",
          "height": 424
        },
        "id": "Pnh3mMX2i9Cw",
        "outputId": "555ac25d-605b-4d3b-d159-7948d66f3d28"
      },
      "execution_count": 24,
      "outputs": [
        {
          "output_type": "stream",
          "name": "stderr",
          "text": [
            "<ipython-input-24-2f6f6606aa2c>:1: FutureWarning: The default value of numeric_only in DataFrame.corr is deprecated. In a future version, it will default to False. Select only valid columns or specify the value of numeric_only to silence this warning.\n",
            "  df.corr()\n"
          ]
        },
        {
          "output_type": "execute_result",
          "data": {
            "text/plain": [
              "                             Amount of recommendations  Current price  \\\n",
              "Amount of recommendations                     1.000000       0.031073   \n",
              "Current price                                 0.031073       1.000000   \n",
              "Current discount in percent                   0.003367      -0.203372   \n",
              "Rating                                        0.058062       0.085526   \n",
              "Release                                       0.010712       0.244371   \n",
              "Number of Platforms                           0.077259       0.056671   \n",
              "\n",
              "                             Current discount in percent    Rating   Release  \\\n",
              "Amount of recommendations                       0.003367  0.058062  0.010712   \n",
              "Current price                                  -0.203372  0.085526  0.244371   \n",
              "Current discount in percent                     1.000000 -0.028294  0.072311   \n",
              "Rating                                         -0.028294  1.000000 -0.014955   \n",
              "Release                                         0.072311 -0.014955  1.000000   \n",
              "Number of Platforms                             0.024819  0.102697  0.073666   \n",
              "\n",
              "                             Number of Platforms  \n",
              "Amount of recommendations               0.077259  \n",
              "Current price                           0.056671  \n",
              "Current discount in percent             0.024819  \n",
              "Rating                                  0.102697  \n",
              "Release                                 0.073666  \n",
              "Number of Platforms                     1.000000  "
            ],
            "text/html": [
              "\n",
              "  <div id=\"df-aa9fe807-935b-4303-98f9-e53cf0109a48\">\n",
              "    <div class=\"colab-df-container\">\n",
              "      <div>\n",
              "<style scoped>\n",
              "    .dataframe tbody tr th:only-of-type {\n",
              "        vertical-align: middle;\n",
              "    }\n",
              "\n",
              "    .dataframe tbody tr th {\n",
              "        vertical-align: top;\n",
              "    }\n",
              "\n",
              "    .dataframe thead th {\n",
              "        text-align: right;\n",
              "    }\n",
              "</style>\n",
              "<table border=\"1\" class=\"dataframe\">\n",
              "  <thead>\n",
              "    <tr style=\"text-align: right;\">\n",
              "      <th></th>\n",
              "      <th>Amount of recommendations</th>\n",
              "      <th>Current price</th>\n",
              "      <th>Current discount in percent</th>\n",
              "      <th>Rating</th>\n",
              "      <th>Release</th>\n",
              "      <th>Number of Platforms</th>\n",
              "    </tr>\n",
              "  </thead>\n",
              "  <tbody>\n",
              "    <tr>\n",
              "      <th>Amount of recommendations</th>\n",
              "      <td>1.000000</td>\n",
              "      <td>0.031073</td>\n",
              "      <td>0.003367</td>\n",
              "      <td>0.058062</td>\n",
              "      <td>0.010712</td>\n",
              "      <td>0.077259</td>\n",
              "    </tr>\n",
              "    <tr>\n",
              "      <th>Current price</th>\n",
              "      <td>0.031073</td>\n",
              "      <td>1.000000</td>\n",
              "      <td>-0.203372</td>\n",
              "      <td>0.085526</td>\n",
              "      <td>0.244371</td>\n",
              "      <td>0.056671</td>\n",
              "    </tr>\n",
              "    <tr>\n",
              "      <th>Current discount in percent</th>\n",
              "      <td>0.003367</td>\n",
              "      <td>-0.203372</td>\n",
              "      <td>1.000000</td>\n",
              "      <td>-0.028294</td>\n",
              "      <td>0.072311</td>\n",
              "      <td>0.024819</td>\n",
              "    </tr>\n",
              "    <tr>\n",
              "      <th>Rating</th>\n",
              "      <td>0.058062</td>\n",
              "      <td>0.085526</td>\n",
              "      <td>-0.028294</td>\n",
              "      <td>1.000000</td>\n",
              "      <td>-0.014955</td>\n",
              "      <td>0.102697</td>\n",
              "    </tr>\n",
              "    <tr>\n",
              "      <th>Release</th>\n",
              "      <td>0.010712</td>\n",
              "      <td>0.244371</td>\n",
              "      <td>0.072311</td>\n",
              "      <td>-0.014955</td>\n",
              "      <td>1.000000</td>\n",
              "      <td>0.073666</td>\n",
              "    </tr>\n",
              "    <tr>\n",
              "      <th>Number of Platforms</th>\n",
              "      <td>0.077259</td>\n",
              "      <td>0.056671</td>\n",
              "      <td>0.024819</td>\n",
              "      <td>0.102697</td>\n",
              "      <td>0.073666</td>\n",
              "      <td>1.000000</td>\n",
              "    </tr>\n",
              "  </tbody>\n",
              "</table>\n",
              "</div>\n",
              "      <button class=\"colab-df-convert\" onclick=\"convertToInteractive('df-aa9fe807-935b-4303-98f9-e53cf0109a48')\"\n",
              "              title=\"Convert this dataframe to an interactive table.\"\n",
              "              style=\"display:none;\">\n",
              "        \n",
              "  <svg xmlns=\"http://www.w3.org/2000/svg\" height=\"24px\"viewBox=\"0 0 24 24\"\n",
              "       width=\"24px\">\n",
              "    <path d=\"M0 0h24v24H0V0z\" fill=\"none\"/>\n",
              "    <path d=\"M18.56 5.44l.94 2.06.94-2.06 2.06-.94-2.06-.94-.94-2.06-.94 2.06-2.06.94zm-11 1L8.5 8.5l.94-2.06 2.06-.94-2.06-.94L8.5 2.5l-.94 2.06-2.06.94zm10 10l.94 2.06.94-2.06 2.06-.94-2.06-.94-.94-2.06-.94 2.06-2.06.94z\"/><path d=\"M17.41 7.96l-1.37-1.37c-.4-.4-.92-.59-1.43-.59-.52 0-1.04.2-1.43.59L10.3 9.45l-7.72 7.72c-.78.78-.78 2.05 0 2.83L4 21.41c.39.39.9.59 1.41.59.51 0 1.02-.2 1.41-.59l7.78-7.78 2.81-2.81c.8-.78.8-2.07 0-2.86zM5.41 20L4 18.59l7.72-7.72 1.47 1.35L5.41 20z\"/>\n",
              "  </svg>\n",
              "      </button>\n",
              "      \n",
              "  <style>\n",
              "    .colab-df-container {\n",
              "      display:flex;\n",
              "      flex-wrap:wrap;\n",
              "      gap: 12px;\n",
              "    }\n",
              "\n",
              "    .colab-df-convert {\n",
              "      background-color: #E8F0FE;\n",
              "      border: none;\n",
              "      border-radius: 50%;\n",
              "      cursor: pointer;\n",
              "      display: none;\n",
              "      fill: #1967D2;\n",
              "      height: 32px;\n",
              "      padding: 0 0 0 0;\n",
              "      width: 32px;\n",
              "    }\n",
              "\n",
              "    .colab-df-convert:hover {\n",
              "      background-color: #E2EBFA;\n",
              "      box-shadow: 0px 1px 2px rgba(60, 64, 67, 0.3), 0px 1px 3px 1px rgba(60, 64, 67, 0.15);\n",
              "      fill: #174EA6;\n",
              "    }\n",
              "\n",
              "    [theme=dark] .colab-df-convert {\n",
              "      background-color: #3B4455;\n",
              "      fill: #D2E3FC;\n",
              "    }\n",
              "\n",
              "    [theme=dark] .colab-df-convert:hover {\n",
              "      background-color: #434B5C;\n",
              "      box-shadow: 0px 1px 3px 1px rgba(0, 0, 0, 0.15);\n",
              "      filter: drop-shadow(0px 1px 2px rgba(0, 0, 0, 0.3));\n",
              "      fill: #FFFFFF;\n",
              "    }\n",
              "  </style>\n",
              "\n",
              "      <script>\n",
              "        const buttonEl =\n",
              "          document.querySelector('#df-aa9fe807-935b-4303-98f9-e53cf0109a48 button.colab-df-convert');\n",
              "        buttonEl.style.display =\n",
              "          google.colab.kernel.accessAllowed ? 'block' : 'none';\n",
              "\n",
              "        async function convertToInteractive(key) {\n",
              "          const element = document.querySelector('#df-aa9fe807-935b-4303-98f9-e53cf0109a48');\n",
              "          const dataTable =\n",
              "            await google.colab.kernel.invokeFunction('convertToInteractive',\n",
              "                                                     [key], {});\n",
              "          if (!dataTable) return;\n",
              "\n",
              "          const docLinkHtml = 'Like what you see? Visit the ' +\n",
              "            '<a target=\"_blank\" href=https://colab.research.google.com/notebooks/data_table.ipynb>data table notebook</a>'\n",
              "            + ' to learn more about interactive tables.';\n",
              "          element.innerHTML = '';\n",
              "          dataTable['output_type'] = 'display_data';\n",
              "          await google.colab.output.renderOutput(dataTable, element);\n",
              "          const docLink = document.createElement('div');\n",
              "          docLink.innerHTML = docLinkHtml;\n",
              "          element.appendChild(docLink);\n",
              "        }\n",
              "      </script>\n",
              "    </div>\n",
              "  </div>\n",
              "  "
            ]
          },
          "metadata": {},
          "execution_count": 24
        }
      ]
    },
    {
      "cell_type": "markdown",
      "source": [
        "Параметрами с наибольшей корреляцией с Amount of recommendations являются Number of Platforms, Rating, Current Price"
      ],
      "metadata": {
        "id": "7FobuTfPk7os"
      }
    },
    {
      "cell_type": "code",
      "source": [
        "df.to_csv('clean.csv', sep=';', index=False)"
      ],
      "metadata": {
        "id": "rJ4asjYNmoOB"
      },
      "execution_count": 25,
      "outputs": []
    }
  ]
}