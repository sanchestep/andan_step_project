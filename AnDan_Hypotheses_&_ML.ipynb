{
  "nbformat": 4,
  "nbformat_minor": 0,
  "metadata": {
    "colab": {
      "provenance": []
    },
    "kernelspec": {
      "name": "python3",
      "display_name": "Python 3"
    },
    "language_info": {
      "name": "python"
    }
  },
  "cells": [
    {
      "cell_type": "markdown",
      "source": [
        "##Проверка гипотез"
      ],
      "metadata": {
        "id": "bm4eIiBIVLrU"
      }
    },
    {
      "cell_type": "code",
      "source": [
        "import pandas as pd\n",
        "import numpy as np\n",
        "import scipy.stats as stats"
      ],
      "metadata": {
        "id": "7wobKlH0VLNR"
      },
      "execution_count": 90,
      "outputs": []
    },
    {
      "cell_type": "code",
      "source": [
        "df = pd.read_csv('clean.csv', sep = ';')\n",
        "df"
      ],
      "metadata": {
        "colab": {
          "base_uri": "https://localhost:8080/",
          "height": 1000
        },
        "id": "7J8dNyeHVLL2",
        "outputId": "79c5ecaf-af49-4ec4-f425-f81b3ee93915"
      },
      "execution_count": 91,
      "outputs": [
        {
          "output_type": "execute_result",
          "data": {
            "text/plain": [
              "                            Game title  Amount of recommendations  \\\n",
              "0     Counter-Strike: Global Offensive                    2999135   \n",
              "1                  PUBG: BATTLEGROUNDS                    1382744   \n",
              "2       Tom Clancy's Rainbow Six Siege                     710454   \n",
              "3                          Garry's Mod                     557779   \n",
              "4                             Terraria                     536708   \n",
              "...                                ...                        ...   \n",
              "2187        Yomawari: Midnight Shadows                        303   \n",
              "2188                             SiNKR                        302   \n",
              "2189                Invisigun Reloaded                        302   \n",
              "2190         Tropico 3: Absolute Power                        302   \n",
              "2191                    Inertial Drift                        301   \n",
              "\n",
              "      Current price  Current discount in percent                     Genre  \\\n",
              "0              0.00                            0                   Shooter   \n",
              "1             29.99                            0                   Shooter   \n",
              "2             19.99                            0                   Shooter   \n",
              "3              9.99                            0                 Simulator   \n",
              "4              9.99                            0                  Platform   \n",
              "...             ...                          ...                       ...   \n",
              "2187          19.99                            0                    Puzzle   \n",
              "2188           3.99                            0                    Puzzle   \n",
              "2189          19.99                            0                    Arcade   \n",
              "2190           9.99                            0  Real Time Strategy (RTS)   \n",
              "2191          19.99                            0                    Racing   \n",
              "\n",
              "                      Publisher  Rating  \\\n",
              "0     Hidden Path Entertainment      81   \n",
              "1               Bluehole Studio      75   \n",
              "2              Ubisoft Montreal      74   \n",
              "3             Facepunch Studios      74   \n",
              "4                  Headup Games      81   \n",
              "...                         ...     ...   \n",
              "2187                NIS America      83   \n",
              "2188              Robert Wahler      68   \n",
              "2189           Sombr Studio LLC      74   \n",
              "2190            Haemimont Games      74   \n",
              "2191     Level 91 Entertainment      82   \n",
              "\n",
              "                                                  Names      Collection  \\\n",
              "0     Counter-Strike: Ofensiva Global, Counterstrike...  Counter-Strike   \n",
              "1     Battlegrounds, Player Unknown, PUBG, PLAYERUNK...             NaN   \n",
              "2     R6:S, R6S, R6: Siege, 彩虹六号：围攻, Regenbogen 6 Be...     Rainbow Six   \n",
              "3                             GMod, 게리 모드, gmod 9, gmod             NaN   \n",
              "4     Terraria: Journey's End, テラリア, 테라리아 (Terraria)...        Terraria   \n",
              "...                                                 ...             ...   \n",
              "2187                                                深夜廻             NaN   \n",
              "2188                                        シズめル, SiNKR             NaN   \n",
              "2189                                   Invisigun Heroes             NaN   \n",
              "2190  Тропико 3: Абсолютная власть. Дополнение, トロピコ...         Tropico   \n",
              "2191                                           이너셜 드리프트             NaN   \n",
              "\n",
              "      Release         engine  \\\n",
              "0        2012         Source   \n",
              "1        2017  Unreal Engine   \n",
              "2        2020      AnvilNext   \n",
              "3        2004         Source   \n",
              "4        2011         Unique   \n",
              "...       ...            ...   \n",
              "2187     2017         Unique   \n",
              "2188     2017         Unique   \n",
              "2189     2019         Unique   \n",
              "2190     2010         Unique   \n",
              "2191     2020         Unique   \n",
              "\n",
              "                                              Platforms  Number of Platforms  \n",
              "0     Linux, PC (Microsoft Windows), PlayStation 3, ...                    5  \n",
              "1     PC (Microsoft Windows), PlayStation 4, Xbox On...                    4  \n",
              "2     PC (Microsoft Windows), PlayStation 4, Xbox On...                    6  \n",
              "3                    Linux, PC (Microsoft Windows), Mac                    3  \n",
              "4     Linux, PC (Microsoft Windows), PlayStation 3, ...                   15  \n",
              "...                                                 ...                  ...  \n",
              "2187  PC (Microsoft Windows), PlayStation Vita, Play...                    3  \n",
              "2188  Linux, PC (Microsoft Windows), Mac, iOS, Xbox One                    5  \n",
              "2189  Linux, PC (Microsoft Windows), Mac, iOS, PlayS...                    6  \n",
              "2190                             PC (Microsoft Windows)                    1  \n",
              "2191  PC (Microsoft Windows), PlayStation 4, Xbox On...                    6  \n",
              "\n",
              "[2192 rows x 13 columns]"
            ],
            "text/html": [
              "\n",
              "  <div id=\"df-b2f69860-b1a1-45f4-9b67-d21c05d59a5d\">\n",
              "    <div class=\"colab-df-container\">\n",
              "      <div>\n",
              "<style scoped>\n",
              "    .dataframe tbody tr th:only-of-type {\n",
              "        vertical-align: middle;\n",
              "    }\n",
              "\n",
              "    .dataframe tbody tr th {\n",
              "        vertical-align: top;\n",
              "    }\n",
              "\n",
              "    .dataframe thead th {\n",
              "        text-align: right;\n",
              "    }\n",
              "</style>\n",
              "<table border=\"1\" class=\"dataframe\">\n",
              "  <thead>\n",
              "    <tr style=\"text-align: right;\">\n",
              "      <th></th>\n",
              "      <th>Game title</th>\n",
              "      <th>Amount of recommendations</th>\n",
              "      <th>Current price</th>\n",
              "      <th>Current discount in percent</th>\n",
              "      <th>Genre</th>\n",
              "      <th>Publisher</th>\n",
              "      <th>Rating</th>\n",
              "      <th>Names</th>\n",
              "      <th>Collection</th>\n",
              "      <th>Release</th>\n",
              "      <th>engine</th>\n",
              "      <th>Platforms</th>\n",
              "      <th>Number of Platforms</th>\n",
              "    </tr>\n",
              "  </thead>\n",
              "  <tbody>\n",
              "    <tr>\n",
              "      <th>0</th>\n",
              "      <td>Counter-Strike: Global Offensive</td>\n",
              "      <td>2999135</td>\n",
              "      <td>0.00</td>\n",
              "      <td>0</td>\n",
              "      <td>Shooter</td>\n",
              "      <td>Hidden Path Entertainment</td>\n",
              "      <td>81</td>\n",
              "      <td>Counter-Strike: Ofensiva Global, Counterstrike...</td>\n",
              "      <td>Counter-Strike</td>\n",
              "      <td>2012</td>\n",
              "      <td>Source</td>\n",
              "      <td>Linux, PC (Microsoft Windows), PlayStation 3, ...</td>\n",
              "      <td>5</td>\n",
              "    </tr>\n",
              "    <tr>\n",
              "      <th>1</th>\n",
              "      <td>PUBG: BATTLEGROUNDS</td>\n",
              "      <td>1382744</td>\n",
              "      <td>29.99</td>\n",
              "      <td>0</td>\n",
              "      <td>Shooter</td>\n",
              "      <td>Bluehole Studio</td>\n",
              "      <td>75</td>\n",
              "      <td>Battlegrounds, Player Unknown, PUBG, PLAYERUNK...</td>\n",
              "      <td>NaN</td>\n",
              "      <td>2017</td>\n",
              "      <td>Unreal Engine</td>\n",
              "      <td>PC (Microsoft Windows), PlayStation 4, Xbox On...</td>\n",
              "      <td>4</td>\n",
              "    </tr>\n",
              "    <tr>\n",
              "      <th>2</th>\n",
              "      <td>Tom Clancy's Rainbow Six Siege</td>\n",
              "      <td>710454</td>\n",
              "      <td>19.99</td>\n",
              "      <td>0</td>\n",
              "      <td>Shooter</td>\n",
              "      <td>Ubisoft Montreal</td>\n",
              "      <td>74</td>\n",
              "      <td>R6:S, R6S, R6: Siege, 彩虹六号：围攻, Regenbogen 6 Be...</td>\n",
              "      <td>Rainbow Six</td>\n",
              "      <td>2020</td>\n",
              "      <td>AnvilNext</td>\n",
              "      <td>PC (Microsoft Windows), PlayStation 4, Xbox On...</td>\n",
              "      <td>6</td>\n",
              "    </tr>\n",
              "    <tr>\n",
              "      <th>3</th>\n",
              "      <td>Garry's Mod</td>\n",
              "      <td>557779</td>\n",
              "      <td>9.99</td>\n",
              "      <td>0</td>\n",
              "      <td>Simulator</td>\n",
              "      <td>Facepunch Studios</td>\n",
              "      <td>74</td>\n",
              "      <td>GMod, 게리 모드, gmod 9, gmod</td>\n",
              "      <td>NaN</td>\n",
              "      <td>2004</td>\n",
              "      <td>Source</td>\n",
              "      <td>Linux, PC (Microsoft Windows), Mac</td>\n",
              "      <td>3</td>\n",
              "    </tr>\n",
              "    <tr>\n",
              "      <th>4</th>\n",
              "      <td>Terraria</td>\n",
              "      <td>536708</td>\n",
              "      <td>9.99</td>\n",
              "      <td>0</td>\n",
              "      <td>Platform</td>\n",
              "      <td>Headup Games</td>\n",
              "      <td>81</td>\n",
              "      <td>Terraria: Journey's End, テラリア, 테라리아 (Terraria)...</td>\n",
              "      <td>Terraria</td>\n",
              "      <td>2011</td>\n",
              "      <td>Unique</td>\n",
              "      <td>Linux, PC (Microsoft Windows), PlayStation 3, ...</td>\n",
              "      <td>15</td>\n",
              "    </tr>\n",
              "    <tr>\n",
              "      <th>...</th>\n",
              "      <td>...</td>\n",
              "      <td>...</td>\n",
              "      <td>...</td>\n",
              "      <td>...</td>\n",
              "      <td>...</td>\n",
              "      <td>...</td>\n",
              "      <td>...</td>\n",
              "      <td>...</td>\n",
              "      <td>...</td>\n",
              "      <td>...</td>\n",
              "      <td>...</td>\n",
              "      <td>...</td>\n",
              "      <td>...</td>\n",
              "    </tr>\n",
              "    <tr>\n",
              "      <th>2187</th>\n",
              "      <td>Yomawari: Midnight Shadows</td>\n",
              "      <td>303</td>\n",
              "      <td>19.99</td>\n",
              "      <td>0</td>\n",
              "      <td>Puzzle</td>\n",
              "      <td>NIS America</td>\n",
              "      <td>83</td>\n",
              "      <td>深夜廻</td>\n",
              "      <td>NaN</td>\n",
              "      <td>2017</td>\n",
              "      <td>Unique</td>\n",
              "      <td>PC (Microsoft Windows), PlayStation Vita, Play...</td>\n",
              "      <td>3</td>\n",
              "    </tr>\n",
              "    <tr>\n",
              "      <th>2188</th>\n",
              "      <td>SiNKR</td>\n",
              "      <td>302</td>\n",
              "      <td>3.99</td>\n",
              "      <td>0</td>\n",
              "      <td>Puzzle</td>\n",
              "      <td>Robert Wahler</td>\n",
              "      <td>68</td>\n",
              "      <td>シズめル, SiNKR</td>\n",
              "      <td>NaN</td>\n",
              "      <td>2017</td>\n",
              "      <td>Unique</td>\n",
              "      <td>Linux, PC (Microsoft Windows), Mac, iOS, Xbox One</td>\n",
              "      <td>5</td>\n",
              "    </tr>\n",
              "    <tr>\n",
              "      <th>2189</th>\n",
              "      <td>Invisigun Reloaded</td>\n",
              "      <td>302</td>\n",
              "      <td>19.99</td>\n",
              "      <td>0</td>\n",
              "      <td>Arcade</td>\n",
              "      <td>Sombr Studio LLC</td>\n",
              "      <td>74</td>\n",
              "      <td>Invisigun Heroes</td>\n",
              "      <td>NaN</td>\n",
              "      <td>2019</td>\n",
              "      <td>Unique</td>\n",
              "      <td>Linux, PC (Microsoft Windows), Mac, iOS, PlayS...</td>\n",
              "      <td>6</td>\n",
              "    </tr>\n",
              "    <tr>\n",
              "      <th>2190</th>\n",
              "      <td>Tropico 3: Absolute Power</td>\n",
              "      <td>302</td>\n",
              "      <td>9.99</td>\n",
              "      <td>0</td>\n",
              "      <td>Real Time Strategy (RTS)</td>\n",
              "      <td>Haemimont Games</td>\n",
              "      <td>74</td>\n",
              "      <td>Тропико 3: Абсолютная власть. Дополнение, トロピコ...</td>\n",
              "      <td>Tropico</td>\n",
              "      <td>2010</td>\n",
              "      <td>Unique</td>\n",
              "      <td>PC (Microsoft Windows)</td>\n",
              "      <td>1</td>\n",
              "    </tr>\n",
              "    <tr>\n",
              "      <th>2191</th>\n",
              "      <td>Inertial Drift</td>\n",
              "      <td>301</td>\n",
              "      <td>19.99</td>\n",
              "      <td>0</td>\n",
              "      <td>Racing</td>\n",
              "      <td>Level 91 Entertainment</td>\n",
              "      <td>82</td>\n",
              "      <td>이너셜 드리프트</td>\n",
              "      <td>NaN</td>\n",
              "      <td>2020</td>\n",
              "      <td>Unique</td>\n",
              "      <td>PC (Microsoft Windows), PlayStation 4, Xbox On...</td>\n",
              "      <td>6</td>\n",
              "    </tr>\n",
              "  </tbody>\n",
              "</table>\n",
              "<p>2192 rows × 13 columns</p>\n",
              "</div>\n",
              "      <button class=\"colab-df-convert\" onclick=\"convertToInteractive('df-b2f69860-b1a1-45f4-9b67-d21c05d59a5d')\"\n",
              "              title=\"Convert this dataframe to an interactive table.\"\n",
              "              style=\"display:none;\">\n",
              "        \n",
              "  <svg xmlns=\"http://www.w3.org/2000/svg\" height=\"24px\"viewBox=\"0 0 24 24\"\n",
              "       width=\"24px\">\n",
              "    <path d=\"M0 0h24v24H0V0z\" fill=\"none\"/>\n",
              "    <path d=\"M18.56 5.44l.94 2.06.94-2.06 2.06-.94-2.06-.94-.94-2.06-.94 2.06-2.06.94zm-11 1L8.5 8.5l.94-2.06 2.06-.94-2.06-.94L8.5 2.5l-.94 2.06-2.06.94zm10 10l.94 2.06.94-2.06 2.06-.94-2.06-.94-.94-2.06-.94 2.06-2.06.94z\"/><path d=\"M17.41 7.96l-1.37-1.37c-.4-.4-.92-.59-1.43-.59-.52 0-1.04.2-1.43.59L10.3 9.45l-7.72 7.72c-.78.78-.78 2.05 0 2.83L4 21.41c.39.39.9.59 1.41.59.51 0 1.02-.2 1.41-.59l7.78-7.78 2.81-2.81c.8-.78.8-2.07 0-2.86zM5.41 20L4 18.59l7.72-7.72 1.47 1.35L5.41 20z\"/>\n",
              "  </svg>\n",
              "      </button>\n",
              "      \n",
              "  <style>\n",
              "    .colab-df-container {\n",
              "      display:flex;\n",
              "      flex-wrap:wrap;\n",
              "      gap: 12px;\n",
              "    }\n",
              "\n",
              "    .colab-df-convert {\n",
              "      background-color: #E8F0FE;\n",
              "      border: none;\n",
              "      border-radius: 50%;\n",
              "      cursor: pointer;\n",
              "      display: none;\n",
              "      fill: #1967D2;\n",
              "      height: 32px;\n",
              "      padding: 0 0 0 0;\n",
              "      width: 32px;\n",
              "    }\n",
              "\n",
              "    .colab-df-convert:hover {\n",
              "      background-color: #E2EBFA;\n",
              "      box-shadow: 0px 1px 2px rgba(60, 64, 67, 0.3), 0px 1px 3px 1px rgba(60, 64, 67, 0.15);\n",
              "      fill: #174EA6;\n",
              "    }\n",
              "\n",
              "    [theme=dark] .colab-df-convert {\n",
              "      background-color: #3B4455;\n",
              "      fill: #D2E3FC;\n",
              "    }\n",
              "\n",
              "    [theme=dark] .colab-df-convert:hover {\n",
              "      background-color: #434B5C;\n",
              "      box-shadow: 0px 1px 3px 1px rgba(0, 0, 0, 0.15);\n",
              "      filter: drop-shadow(0px 1px 2px rgba(0, 0, 0, 0.3));\n",
              "      fill: #FFFFFF;\n",
              "    }\n",
              "  </style>\n",
              "\n",
              "      <script>\n",
              "        const buttonEl =\n",
              "          document.querySelector('#df-b2f69860-b1a1-45f4-9b67-d21c05d59a5d button.colab-df-convert');\n",
              "        buttonEl.style.display =\n",
              "          google.colab.kernel.accessAllowed ? 'block' : 'none';\n",
              "\n",
              "        async function convertToInteractive(key) {\n",
              "          const element = document.querySelector('#df-b2f69860-b1a1-45f4-9b67-d21c05d59a5d');\n",
              "          const dataTable =\n",
              "            await google.colab.kernel.invokeFunction('convertToInteractive',\n",
              "                                                     [key], {});\n",
              "          if (!dataTable) return;\n",
              "\n",
              "          const docLinkHtml = 'Like what you see? Visit the ' +\n",
              "            '<a target=\"_blank\" href=https://colab.research.google.com/notebooks/data_table.ipynb>data table notebook</a>'\n",
              "            + ' to learn more about interactive tables.';\n",
              "          element.innerHTML = '';\n",
              "          dataTable['output_type'] = 'display_data';\n",
              "          await google.colab.output.renderOutput(dataTable, element);\n",
              "          const docLink = document.createElement('div');\n",
              "          docLink.innerHTML = docLinkHtml;\n",
              "          element.appendChild(docLink);\n",
              "        }\n",
              "      </script>\n",
              "    </div>\n",
              "  </div>\n",
              "  "
            ]
          },
          "metadata": {},
          "execution_count": 91
        }
      ]
    },
    {
      "cell_type": "markdown",
      "source": [
        "##Гипотеза 1\n",
        "\n",
        "*All due respect, you got no idea what it's like to be (Hypothesis) Number One.*"
      ],
      "metadata": {
        "id": "E2rvuLXwYnjM"
      }
    },
    {
      "cell_type": "markdown",
      "source": [
        "Для начала я предлагаю проверить гипотезу о том, что математическое ожидание числа платформ у игры будет равняться моде этого параметра, против альтернативной, что она не равна"
      ],
      "metadata": {
        "id": "n17UjV53Vgmt"
      }
    },
    {
      "cell_type": "code",
      "source": [
        "df['Number of Platforms'].mode().values[0]"
      ],
      "metadata": {
        "colab": {
          "base_uri": "https://localhost:8080/"
        },
        "id": "eKvwxzUSVLJj",
        "outputId": "077dcd66-1b8e-4178-f0fd-efc7a6afe30c"
      },
      "execution_count": 92,
      "outputs": [
        {
          "output_type": "execute_result",
          "data": {
            "text/plain": [
              "1"
            ]
          },
          "metadata": {},
          "execution_count": 92
        }
      ]
    },
    {
      "cell_type": "markdown",
      "source": [
        "\\begin{align}\n",
        "H_0: μ_{platforms} = \\mathrm{1}\n",
        "\\end{align}\n",
        "\\begin{align}\n",
        "H_1: μ_{platforms} \\neq \\mathrm{1}\n",
        "\\end{align}"
      ],
      "metadata": {
        "id": "SQOTmvwR7Ncb"
      }
    },
    {
      "cell_type": "markdown",
      "source": [
        "В данном случае нам неизвестна истинная дисперсия, поэтому мы не сможем провести z-test. Поэтому выбираем t-test и проверяем на уровне значимости 5%"
      ],
      "metadata": {
        "id": "n8NmZFf8ZjAA"
      }
    },
    {
      "cell_type": "code",
      "source": [
        "t_stat, p_value = stats.ttest_1samp(df['Number of Platforms'], 1)\n",
        "if p_value < 0.05:\n",
        "  print('Гипотеза отвергается')\n",
        "else:\n",
        "  print('Гипотеза не отвергается')"
      ],
      "metadata": {
        "colab": {
          "base_uri": "https://localhost:8080/"
        },
        "id": "ZRkiM9m0VLHI",
        "outputId": "d5bae6e0-5e1d-4940-8922-11bcee765d28"
      },
      "execution_count": 93,
      "outputs": [
        {
          "output_type": "stream",
          "name": "stdout",
          "text": [
            "Гипотеза отвергается\n"
          ]
        }
      ]
    },
    {
      "cell_type": "markdown",
      "source": [
        "В нашем случае гипотеза отвергается, следовательно, математическое ожидание числа платформ у игры не может равняться моде, то есть 1."
      ],
      "metadata": {
        "id": "qFcA1AvqbP4I"
      }
    },
    {
      "cell_type": "code",
      "source": [
        "df['Number of Platforms'].mean()"
      ],
      "metadata": {
        "colab": {
          "base_uri": "https://localhost:8080/"
        },
        "id": "QNjvOxSFs9aw",
        "outputId": "feafeae1-84de-4a35-f48f-059875098231"
      },
      "execution_count": 94,
      "outputs": [
        {
          "output_type": "execute_result",
          "data": {
            "text/plain": [
              "3.5807481751824817"
            ]
          },
          "metadata": {},
          "execution_count": 94
        }
      ]
    },
    {
      "cell_type": "markdown",
      "source": [
        "##Гипотеза 2\n",
        "*Whenever I'm about to do something, I think, 'Would an idiot do that?' and if they would, I do not do that thing*"
      ],
      "metadata": {
        "id": "Mo46-AJwcn-u"
      }
    },
    {
      "cell_type": "markdown",
      "source": [
        "Для второй гипотезы предлагаю разбить игры на 2 группы: хорошие и плохие. За хорошие будем считать те игры, рейтинг которых не менее 75, плохие - наоборот."
      ],
      "metadata": {
        "id": "7U-uEoBWfjEF"
      }
    },
    {
      "cell_type": "code",
      "source": [
        "df_good = df[df['Rating'] >= 75]\n",
        "df_bad = df[df['Rating'] < 75]"
      ],
      "metadata": {
        "id": "REip52R9fiqb"
      },
      "execution_count": 95,
      "outputs": []
    },
    {
      "cell_type": "markdown",
      "source": [
        "Проверим гипотезу о том, что в среднем плохие и хорошие игры стоят одинаково против гипотезы о том, что хорошие игры дороже плохих, на уровне значимости 5%."
      ],
      "metadata": {
        "id": "mVoTjnzrgimo"
      }
    },
    {
      "cell_type": "markdown",
      "source": [
        "\\begin{align}\n",
        "H_0: μ_{good} = μ_{bad}\n",
        "\\end{align}\n",
        "\\begin{align}\n",
        "H_1: μ_{good} > μ_{bad}\n",
        "\\end{align}"
      ],
      "metadata": {
        "id": "XtMgj3gKgnt2"
      }
    },
    {
      "cell_type": "markdown",
      "source": [
        "Проведём t-test для двух независимых выборок, считая, для упрощения, что их истинные дисперсии равны."
      ],
      "metadata": {
        "id": "314dIDEfh1oQ"
      }
    },
    {
      "cell_type": "code",
      "source": [
        "good_price = df_good['Current price']\n",
        "bad_price = df_bad['Current price']\n",
        "t_stat, p_value = stats.ttest_ind(good_price, bad_price)\n",
        "t_q = stats.t.ppf(0.95, len(df) - 2)\n",
        "if t_stat > t_q or t_stat < -t_q:\n",
        "  print('Гипотеза отвергается')\n",
        "elif t_stat > -t_q and t_stat < t_q:\n",
        "  print('Гипотеза не отвергается')"
      ],
      "metadata": {
        "colab": {
          "base_uri": "https://localhost:8080/"
        },
        "id": "B_dqKc5vcnx5",
        "outputId": "d53aeffd-c303-44f0-9873-a5678e7fb3e9"
      },
      "execution_count": 96,
      "outputs": [
        {
          "output_type": "stream",
          "name": "stdout",
          "text": [
            "Гипотеза отвергается\n"
          ]
        }
      ]
    },
    {
      "cell_type": "markdown",
      "source": [
        "Гипотеза о равенстве мат. ожиданий отвергается в пользу гипотезы о том, что в среднем хорошие игры стоят дороже плохих."
      ],
      "metadata": {
        "id": "nAl9U0wQltQj"
      }
    },
    {
      "cell_type": "markdown",
      "source": [
        "##Гипотеза 3\n",
        "\n",
        "*Sometimes In Life When You Get What You Want* (high price)*, You End Up Missing What You Left Behind* (many recommendations)"
      ],
      "metadata": {
        "id": "I0ydfIYYnsHX"
      }
    },
    {
      "cell_type": "markdown",
      "source": [
        "Проверим гипотезу о том, что цена игры не зависит от количества рекомендаций хи-квадрат-теста."
      ],
      "metadata": {
        "id": "ip4jGzaHnz5A"
      }
    },
    {
      "cell_type": "markdown",
      "source": [
        "Посчитаем, что рекомендаций много, когда их число больше 5000. Создадим таблицу из матрицу 2х2, в первой ячейке будет количество игр, у которых много рекомендаций и цена не меньше 14.99, во второй - игры, у которых много рекомендаций и цена меньше 14.99, в третьей - игры, у которых мало рекомендаций и цена не меньше 14.99, в четвёртой - игры, у которых мало рекомендаций и цена меньше 14.99."
      ],
      "metadata": {
        "id": "q-6h3hnToBUA"
      }
    },
    {
      "cell_type": "code",
      "source": [
        "rec_price = np.array([[len(df[df['Amount of recommendations'] >= 5000][df['Current price'] >= 14.99]), len(df[df['Amount of recommendations'] >= 5000][df['Current price'] < 14.99])],\n",
        "                     [len(df[df['Amount of recommendations'] < 5000][df['Current price'] >= 14.99]), len(df[df['Amount of recommendations'] < 5000][df['Current price'] < 14.99])]])"
      ],
      "metadata": {
        "colab": {
          "base_uri": "https://localhost:8080/"
        },
        "id": "T9q20q9Tcnqj",
        "outputId": "f1355b41-6451-4373-d7a2-e3b3e61f07a4"
      },
      "execution_count": 97,
      "outputs": [
        {
          "output_type": "stream",
          "name": "stderr",
          "text": [
            "<ipython-input-97-7b8eb3b681db>:1: UserWarning: Boolean Series key will be reindexed to match DataFrame index.\n",
            "  rec_price = np.array([[len(df[df['Amount of recommendations'] >= 5000][df['Current price'] >= 14.99]), len(df[df['Amount of recommendations'] >= 5000][df['Current price'] < 14.99])],\n",
            "<ipython-input-97-7b8eb3b681db>:2: UserWarning: Boolean Series key will be reindexed to match DataFrame index.\n",
            "  [len(df[df['Amount of recommendations'] < 5000][df['Current price'] >= 14.99]), len(df[df['Amount of recommendations'] < 5000][df['Current price'] < 14.99])]])\n"
          ]
        }
      ]
    },
    {
      "cell_type": "code",
      "source": [
        "many_much = rec_price[0][0]/sum(rec_price[0])\n",
        "lil_much = rec_price[1][0]/sum(rec_price[1])\n",
        "many_much > lil_much"
      ],
      "metadata": {
        "colab": {
          "base_uri": "https://localhost:8080/"
        },
        "id": "Xr7CJBchcnl_",
        "outputId": "3e1c1fcf-4da1-4e37-957a-e2bcc703fc6b"
      },
      "execution_count": 98,
      "outputs": [
        {
          "output_type": "execute_result",
          "data": {
            "text/plain": [
              "True"
            ]
          },
          "metadata": {},
          "execution_count": 98
        }
      ]
    },
    {
      "cell_type": "markdown",
      "source": [
        "Доля игр, у которых много рекомендаций и большая цена, больше доли тех, у которых мало рекомендаций и маленькая цена"
      ],
      "metadata": {
        "id": "0_RUOJAjsAAp"
      }
    },
    {
      "cell_type": "code",
      "source": [
        "chi, p_value, k, _ = stats.chi2_contingency(rec_price, correction = False)\n",
        "chi, p_value"
      ],
      "metadata": {
        "colab": {
          "base_uri": "https://localhost:8080/"
        },
        "id": "arkTmwc7sWTe",
        "outputId": "8645dc7c-c4a2-4cbb-9de0-6875394e9b40"
      },
      "execution_count": 99,
      "outputs": [
        {
          "output_type": "execute_result",
          "data": {
            "text/plain": [
              "(104.80437363287434, 1.3480947349534227e-24)"
            ]
          },
          "metadata": {},
          "execution_count": 99
        }
      ]
    },
    {
      "cell_type": "code",
      "source": [
        "if p_value < 0.05:\n",
        "  print('Гипотеза отвергается')\n",
        "else:\n",
        "  print('Гипотеза не отвергается')"
      ],
      "metadata": {
        "colab": {
          "base_uri": "https://localhost:8080/"
        },
        "id": "ow7Dwd82sWRQ",
        "outputId": "719545fb-40db-46de-8882-e33ae64b5ea3"
      },
      "execution_count": 100,
      "outputs": [
        {
          "output_type": "stream",
          "name": "stdout",
          "text": [
            "Гипотеза отвергается\n"
          ]
        }
      ]
    },
    {
      "cell_type": "markdown",
      "source": [
        "p-value меньше уровня значимости 5%, следовательно, гипотеза об однородности групп отвергается. Получается, опираясь на то, что доля игр, у которых много рекомендаций и большая цена, больше доли тех, у которых мало рекомендаций и маленькая цена, можно сказать, что цена игры может зависеть от количества рекомендаций."
      ],
      "metadata": {
        "id": "wBkpUVmdtRDd"
      }
    },
    {
      "cell_type": "markdown",
      "source": [
        "##Гипотеза 4\n",
        "\n",
        "*-I have one rule: New is always better.*\n",
        "\n",
        "*-You can't keep changing your one rule if they're always different rules.*\n",
        "\n",
        "*-But \"New is always better\" is my oldest rule, which makes it the best.*"
      ],
      "metadata": {
        "id": "jo91fwnnwQMn"
      }
    },
    {
      "cell_type": "markdown",
      "source": [
        "Проверим гипотезу о том, что в среднем рейтинг игр, которые были выпущены в последние 5 лет, больше рейтинга игр, выпущенных раньше"
      ],
      "metadata": {
        "id": "_-dshJukzNoT"
      }
    },
    {
      "cell_type": "markdown",
      "source": [
        "\\begin{align}\n",
        "H_0: μ_{new} > μ_{bad}\n",
        "\\end{align}"
      ],
      "metadata": {
        "id": "n4CMoCL41o1U"
      }
    },
    {
      "cell_type": "markdown",
      "source": [
        "Проведём t-test для двух независимых выборок. В этот раз для начала проверим, явлются ли дисперсии этих выборок одинаковыми с помощью теста Левена, и, если нет, проведём t-test Уэлча."
      ],
      "metadata": {
        "id": "oeLs7dTK1cHy"
      }
    },
    {
      "cell_type": "code",
      "source": [
        "new = df[df['Release'] >= df['Release'].max() - 5]['Rating']\n",
        "old = df[df['Release'] < df['Release'].max() - 5]['Rating']\n",
        "_, p_value_1 = stats.levene(new, old)\n",
        "_, p_value = stats.ttest_ind(new, old, equal_var=(p_value_1 > 0.05))\n",
        "if p_value > 0.05:\n",
        "  print('Гипотеза не отвергается')\n",
        "else:\n",
        "  print('Гипотеза отвергается')"
      ],
      "metadata": {
        "colab": {
          "base_uri": "https://localhost:8080/"
        },
        "id": "_H5EuqipvQD7",
        "outputId": "1fec9a5a-d8b1-4e6d-8448-97e0ceaf4f50"
      },
      "execution_count": 101,
      "outputs": [
        {
          "output_type": "stream",
          "name": "stdout",
          "text": [
            "Гипотеза не отвергается\n"
          ]
        }
      ]
    },
    {
      "cell_type": "markdown",
      "source": [
        "Гипотеза не отвергается, следовательно, средний рейтинг игр выпущенных в последние 5 лет может быть больше, чем у игр, выпущенных ранее."
      ],
      "metadata": {
        "id": "6hJfrUgH40bd"
      }
    },
    {
      "cell_type": "markdown",
      "source": [
        "##Предсказание количества рекомендаций"
      ],
      "metadata": {
        "id": "g5S01NnunGJB"
      }
    },
    {
      "cell_type": "markdown",
      "source": [
        "Линейная регрессия"
      ],
      "metadata": {
        "id": "2N9pkVaJnOpD"
      }
    },
    {
      "cell_type": "markdown",
      "source": [
        "В качестве целевой переменной берём столбец Amount of recommendations, в качестве вспомогательных признаков - genre, current price, engine, number of platforms, rating"
      ],
      "metadata": {
        "id": "l77gzIpVnTIa"
      }
    },
    {
      "cell_type": "code",
      "execution_count": 102,
      "metadata": {
        "id": "Sychvqt0lsl9"
      },
      "outputs": [],
      "source": [
        "from sklearn.linear_model import LinearRegression\n",
        "from sklearn.model_selection import train_test_split, GridSearchCV\n",
        "from sklearn.metrics import mean_absolute_error, mean_squared_error, r2_score"
      ]
    },
    {
      "cell_type": "markdown",
      "source": [
        "Поделим датасет на тренировочный и тестовый в пропорции 70 на 30"
      ],
      "metadata": {
        "id": "-GDFsyiCnsfH"
      }
    },
    {
      "cell_type": "code",
      "source": [
        "features_0 = df[['Genre', 'Current price', 'engine', 'Number of Platforms', 'Rating']]\n",
        "target = df['Amount of recommendations']"
      ],
      "metadata": {
        "id": "la4q4Q_hoLGm"
      },
      "execution_count": 103,
      "outputs": []
    },
    {
      "cell_type": "markdown",
      "source": [
        "Genre и engine это категориальные признаки, поэтому используем метод get_dummies, чтобы превратить их в числовой формат с помощью one hot encoding"
      ],
      "metadata": {
        "id": "ZzujesKapGen"
      }
    },
    {
      "cell_type": "code",
      "source": [
        "features = pd.get_dummies(features_0)"
      ],
      "metadata": {
        "id": "ZZlUFJdHpdNP"
      },
      "execution_count": 104,
      "outputs": []
    },
    {
      "cell_type": "code",
      "source": [
        "x_train, x_test, y_train, y_test = train_test_split(features, target, test_size=0.3, random_state=42)"
      ],
      "metadata": {
        "id": "wppRNI6Rod1H"
      },
      "execution_count": 105,
      "outputs": []
    },
    {
      "cell_type": "code",
      "source": [
        "model = LinearRegression()"
      ],
      "metadata": {
        "id": "Mh1EJsVGoooQ"
      },
      "execution_count": 106,
      "outputs": []
    },
    {
      "cell_type": "code",
      "source": [
        "model.fit(x_train, y_train)"
      ],
      "metadata": {
        "colab": {
          "base_uri": "https://localhost:8080/",
          "height": 75
        },
        "id": "Yg2ZxPxMorIM",
        "outputId": "5526e2c1-2609-4170-a642-620aa6cbfc7b"
      },
      "execution_count": 107,
      "outputs": [
        {
          "output_type": "execute_result",
          "data": {
            "text/plain": [
              "LinearRegression()"
            ],
            "text/html": [
              "<style>#sk-container-id-1 {color: black;background-color: white;}#sk-container-id-1 pre{padding: 0;}#sk-container-id-1 div.sk-toggleable {background-color: white;}#sk-container-id-1 label.sk-toggleable__label {cursor: pointer;display: block;width: 100%;margin-bottom: 0;padding: 0.3em;box-sizing: border-box;text-align: center;}#sk-container-id-1 label.sk-toggleable__label-arrow:before {content: \"▸\";float: left;margin-right: 0.25em;color: #696969;}#sk-container-id-1 label.sk-toggleable__label-arrow:hover:before {color: black;}#sk-container-id-1 div.sk-estimator:hover label.sk-toggleable__label-arrow:before {color: black;}#sk-container-id-1 div.sk-toggleable__content {max-height: 0;max-width: 0;overflow: hidden;text-align: left;background-color: #f0f8ff;}#sk-container-id-1 div.sk-toggleable__content pre {margin: 0.2em;color: black;border-radius: 0.25em;background-color: #f0f8ff;}#sk-container-id-1 input.sk-toggleable__control:checked~div.sk-toggleable__content {max-height: 200px;max-width: 100%;overflow: auto;}#sk-container-id-1 input.sk-toggleable__control:checked~label.sk-toggleable__label-arrow:before {content: \"▾\";}#sk-container-id-1 div.sk-estimator input.sk-toggleable__control:checked~label.sk-toggleable__label {background-color: #d4ebff;}#sk-container-id-1 div.sk-label input.sk-toggleable__control:checked~label.sk-toggleable__label {background-color: #d4ebff;}#sk-container-id-1 input.sk-hidden--visually {border: 0;clip: rect(1px 1px 1px 1px);clip: rect(1px, 1px, 1px, 1px);height: 1px;margin: -1px;overflow: hidden;padding: 0;position: absolute;width: 1px;}#sk-container-id-1 div.sk-estimator {font-family: monospace;background-color: #f0f8ff;border: 1px dotted black;border-radius: 0.25em;box-sizing: border-box;margin-bottom: 0.5em;}#sk-container-id-1 div.sk-estimator:hover {background-color: #d4ebff;}#sk-container-id-1 div.sk-parallel-item::after {content: \"\";width: 100%;border-bottom: 1px solid gray;flex-grow: 1;}#sk-container-id-1 div.sk-label:hover label.sk-toggleable__label {background-color: #d4ebff;}#sk-container-id-1 div.sk-serial::before {content: \"\";position: absolute;border-left: 1px solid gray;box-sizing: border-box;top: 0;bottom: 0;left: 50%;z-index: 0;}#sk-container-id-1 div.sk-serial {display: flex;flex-direction: column;align-items: center;background-color: white;padding-right: 0.2em;padding-left: 0.2em;position: relative;}#sk-container-id-1 div.sk-item {position: relative;z-index: 1;}#sk-container-id-1 div.sk-parallel {display: flex;align-items: stretch;justify-content: center;background-color: white;position: relative;}#sk-container-id-1 div.sk-item::before, #sk-container-id-1 div.sk-parallel-item::before {content: \"\";position: absolute;border-left: 1px solid gray;box-sizing: border-box;top: 0;bottom: 0;left: 50%;z-index: -1;}#sk-container-id-1 div.sk-parallel-item {display: flex;flex-direction: column;z-index: 1;position: relative;background-color: white;}#sk-container-id-1 div.sk-parallel-item:first-child::after {align-self: flex-end;width: 50%;}#sk-container-id-1 div.sk-parallel-item:last-child::after {align-self: flex-start;width: 50%;}#sk-container-id-1 div.sk-parallel-item:only-child::after {width: 0;}#sk-container-id-1 div.sk-dashed-wrapped {border: 1px dashed gray;margin: 0 0.4em 0.5em 0.4em;box-sizing: border-box;padding-bottom: 0.4em;background-color: white;}#sk-container-id-1 div.sk-label label {font-family: monospace;font-weight: bold;display: inline-block;line-height: 1.2em;}#sk-container-id-1 div.sk-label-container {text-align: center;}#sk-container-id-1 div.sk-container {/* jupyter's `normalize.less` sets `[hidden] { display: none; }` but bootstrap.min.css set `[hidden] { display: none !important; }` so we also need the `!important` here to be able to override the default hidden behavior on the sphinx rendered scikit-learn.org. See: https://github.com/scikit-learn/scikit-learn/issues/21755 */display: inline-block !important;position: relative;}#sk-container-id-1 div.sk-text-repr-fallback {display: none;}</style><div id=\"sk-container-id-1\" class=\"sk-top-container\"><div class=\"sk-text-repr-fallback\"><pre>LinearRegression()</pre><b>In a Jupyter environment, please rerun this cell to show the HTML representation or trust the notebook. <br />On GitHub, the HTML representation is unable to render, please try loading this page with nbviewer.org.</b></div><div class=\"sk-container\" hidden><div class=\"sk-item\"><div class=\"sk-estimator sk-toggleable\"><input class=\"sk-toggleable__control sk-hidden--visually\" id=\"sk-estimator-id-1\" type=\"checkbox\" checked><label for=\"sk-estimator-id-1\" class=\"sk-toggleable__label sk-toggleable__label-arrow\">LinearRegression</label><div class=\"sk-toggleable__content\"><pre>LinearRegression()</pre></div></div></div></div></div>"
            ]
          },
          "metadata": {},
          "execution_count": 107
        }
      ]
    },
    {
      "cell_type": "code",
      "source": [
        "y_pred = model.predict(x_test)"
      ],
      "metadata": {
        "id": "Py6l1mZppv7b"
      },
      "execution_count": 108,
      "outputs": []
    },
    {
      "cell_type": "markdown",
      "source": [
        "Для оценки посчитаем метрики"
      ],
      "metadata": {
        "id": "-x23dK5Eqfcd"
      }
    },
    {
      "cell_type": "code",
      "source": [
        "mean_squared_error(y_test, y_pred)"
      ],
      "metadata": {
        "colab": {
          "base_uri": "https://localhost:8080/"
        },
        "id": "8r_BGpGXp2Co",
        "outputId": "52cce4a8-3335-44b3-a56b-6ab923c87d88"
      },
      "execution_count": 109,
      "outputs": [
        {
          "output_type": "execute_result",
          "data": {
            "text/plain": [
              "1058804107.5260053"
            ]
          },
          "metadata": {},
          "execution_count": 109
        }
      ]
    },
    {
      "cell_type": "markdown",
      "source": [
        "Получается достаточно большая среднеквадратичная ошибка MSE, что говорит о плохом качестве модели."
      ],
      "metadata": {
        "id": "sXqGoIXTqVA4"
      }
    },
    {
      "cell_type": "code",
      "source": [
        "mean_absolute_error(y_test, y_pred)"
      ],
      "metadata": {
        "colab": {
          "base_uri": "https://localhost:8080/"
        },
        "id": "VYSz01UrqUw3",
        "outputId": "f3ac28f5-88c3-4114-ae8b-2561cb12b967"
      },
      "execution_count": 110,
      "outputs": [
        {
          "output_type": "execute_result",
          "data": {
            "text/plain": [
              "15880.652804156698"
            ]
          },
          "metadata": {},
          "execution_count": 110
        }
      ]
    },
    {
      "cell_type": "markdown",
      "source": [
        "MAE тоже получается достаточно большой, в среднем модель ошибается на 15881 рекомендацию."
      ],
      "metadata": {
        "id": "TneN4G7SqyY_"
      }
    },
    {
      "cell_type": "code",
      "source": [
        "r2_score(y_test, y_pred)"
      ],
      "metadata": {
        "colab": {
          "base_uri": "https://localhost:8080/"
        },
        "id": "yemNbpMzqNVy",
        "outputId": "cc92fd94-48ab-4e53-ec21-87aff28a2c36"
      },
      "execution_count": 111,
      "outputs": [
        {
          "output_type": "execute_result",
          "data": {
            "text/plain": [
              "-1.475814462367539"
            ]
          },
          "metadata": {},
          "execution_count": 111
        }
      ]
    },
    {
      "cell_type": "markdown",
      "source": [
        "Модель плохо объясняет вариацию в данных и предсказывает результаты, которые хуже, чем простое случайное угадывание."
      ],
      "metadata": {
        "id": "B_2ckM4irNdB"
      }
    },
    {
      "cell_type": "markdown",
      "source": [
        "Попробуем улучшить линейную регрессию"
      ],
      "metadata": {
        "id": "x-fdo31NrZUc"
      }
    },
    {
      "cell_type": "markdown",
      "source": [
        "Отнормируем числовые показатели от 0 до 1"
      ],
      "metadata": {
        "id": "xBTYR4qwrhuC"
      }
    },
    {
      "cell_type": "code",
      "source": [
        "from sklearn.preprocessing import MinMaxScaler\n",
        "scaler = MinMaxScaler()"
      ],
      "metadata": {
        "id": "Awp6EG6lrCT5"
      },
      "execution_count": 112,
      "outputs": []
    },
    {
      "cell_type": "code",
      "source": [
        "num_features = [\"Current price\", \"Number of Platforms\", \"Rating\"]\n",
        "features[num_features] = scaler.fit_transform(features[num_features])"
      ],
      "metadata": {
        "id": "Yg0ghCJ-r_AZ"
      },
      "execution_count": 113,
      "outputs": []
    },
    {
      "cell_type": "code",
      "source": [
        "x_train_sc, x_test_sc, y_train_sc, y_test_sc = train_test_split(features, target, test_size=0.3, random_state=42)"
      ],
      "metadata": {
        "id": "DOU-YDKCsWur"
      },
      "execution_count": 114,
      "outputs": []
    },
    {
      "cell_type": "markdown",
      "source": [
        "Проводим перебор по сетке для подбора наиболее оптимальных гиперпараметров и, соответственно, модели"
      ],
      "metadata": {
        "id": "Vii_VKPu2WAH"
      }
    },
    {
      "cell_type": "code",
      "source": [
        "grid = {'fit_intercept': [True, False], 'copy_X': [True, False], 'positive': [True, False], 'n_jobs': [-1, 0, 1, 2, 3, 4]}\n",
        "model = LinearRegression()"
      ],
      "metadata": {
        "id": "jkSYTA5CsXge"
      },
      "execution_count": 115,
      "outputs": []
    },
    {
      "cell_type": "code",
      "source": [
        "search = GridSearchCV(model, grid, cv=5)\n",
        "search.fit(x_train_sc, y_train_sc)\n",
        "best_model = search.best_estimator_"
      ],
      "metadata": {
        "id": "bTQpn50pzldl"
      },
      "execution_count": 116,
      "outputs": []
    },
    {
      "cell_type": "code",
      "source": [
        "y_pred_sc = best_model.predict(x_test_sc)"
      ],
      "metadata": {
        "id": "eykN0ROh0L9B"
      },
      "execution_count": 117,
      "outputs": []
    },
    {
      "cell_type": "code",
      "source": [
        "mean_squared_error(y_test_sc, y_pred_sc)"
      ],
      "metadata": {
        "colab": {
          "base_uri": "https://localhost:8080/"
        },
        "id": "Kpemqv8n1JUx",
        "outputId": "64177147-d566-4f63-baea-c5bebcf0724c"
      },
      "execution_count": 118,
      "outputs": [
        {
          "output_type": "execute_result",
          "data": {
            "text/plain": [
              "1080729081.8322742"
            ]
          },
          "metadata": {},
          "execution_count": 118
        }
      ]
    },
    {
      "cell_type": "code",
      "source": [
        "mean_absolute_error(y_test_sc, y_pred_sc)"
      ],
      "metadata": {
        "colab": {
          "base_uri": "https://localhost:8080/"
        },
        "id": "aE-Dk7Ce1zat",
        "outputId": "dcd9ecf8-9b23-47d1-a842-d607c761614b"
      },
      "execution_count": 119,
      "outputs": [
        {
          "output_type": "execute_result",
          "data": {
            "text/plain": [
              "14616.036119447344"
            ]
          },
          "metadata": {},
          "execution_count": 119
        }
      ]
    },
    {
      "cell_type": "code",
      "source": [
        "r2_score(y_test_sc, y_pred_sc)"
      ],
      "metadata": {
        "colab": {
          "base_uri": "https://localhost:8080/"
        },
        "id": "6JC4cXET2E_f",
        "outputId": "f0c1e81c-0152-4728-f28a-d804408d0a43"
      },
      "execution_count": 120,
      "outputs": [
        {
          "output_type": "execute_result",
          "data": {
            "text/plain": [
              "-1.5270818952086649"
            ]
          },
          "metadata": {},
          "execution_count": 120
        }
      ]
    },
    {
      "cell_type": "markdown",
      "source": [
        "Метрики лучше не стали, что говорит о том, что линейная регрессия не подходит для наших данных. Это может быть связано с тем, что у меня недостаточно данных для построения модели. Другой же причиной может быть выбор неподходящих признаков, что также можно свести к малому количеству данных."
      ],
      "metadata": {
        "id": "9rw_QsJx2IBp"
      }
    },
    {
      "cell_type": "code",
      "source": [
        "print('https://www.youtube.com/watch?v=bqqCTC9nQDY&ab_channel=StocKMeMe')"
      ],
      "metadata": {
        "colab": {
          "base_uri": "https://localhost:8080/"
        },
        "id": "cFGevjYJJkiw",
        "outputId": "6c704253-9e4d-44ff-da48-833cb98f6242"
      },
      "execution_count": 123,
      "outputs": [
        {
          "output_type": "stream",
          "name": "stdout",
          "text": [
            "https://www.youtube.com/watch?v=bqqCTC9nQDY&ab_channel=StocKMeMe\n"
          ]
        }
      ]
    }
  ]
}