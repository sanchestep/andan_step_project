{
  "nbformat": 4,
  "nbformat_minor": 0,
  "metadata": {
    "colab": {
      "provenance": []
    },
    "kernelspec": {
      "name": "python3",
      "display_name": "Python 3"
    },
    "language_info": {
      "name": "python"
    }
  },
  "cells": [
    {
      "cell_type": "code",
      "execution_count": null,
      "metadata": {
        "id": "h_FtFi_NqO35"
      },
      "outputs": [],
      "source": [
        "import pandas as pd\n",
        "from bs4 import BeautifulSoup as bs\n",
        "import numpy as np\n",
        "import requests\n",
        "import csv"
      ]
    },
    {
      "cell_type": "code",
      "source": [
        "headers = {\n",
        "    'accept' :'text/html,application/xhtml+xml,application/xml;q=0.9,image/avif,image/webp,image/apng,*/*;q=0.8,application/signed-exchange;v=b3;q=0.7',\n",
        "    'user_agent' : 'Mozlla/5.0 (Macintosh; Intel Mac OS X 10_15_7) AppleWebKit/537.36 (KHTML, like Gecko) Chrome/112.0.0.0 Safari/537.36'\n",
        "    }\n",
        "CSV = 'games.csv'\n",
        "CSV_2 = 'prices.csv'"
      ],
      "metadata": {
        "id": "bBymezu3ILCb"
      },
      "execution_count": null,
      "outputs": []
    },
    {
      "cell_type": "code",
      "source": [
        "def get_content(params=''):\n",
        "  host = 'https://steampricehistory.com'\n",
        "  url = 'https://steampricehistory.com/popular?page='\n",
        "  r = requests.get(url, headers=headers, params=params)\n",
        "  soup = bs(r.text, 'html.parser')\n",
        "  items = soup.find_all('tr')[1:]\n",
        "  games = []\n",
        "  total_links = []\n",
        "  \n",
        "  for item in items:\n",
        "    total_links.append(item.find('a').get('href'))\n",
        "    games.append(\n",
        "        {\n",
        "            'title' : item.find('a', class_='app-link').get_text(strip=True),\n",
        "            'recommended' : item.find_all('td')[4].get_text(strip=True),\n",
        "            'current_price' : item.find_all('td')[2].get_text(strip=True),\n",
        "            'discount' : item.find_all('td')[3].get_text(strip=True)\n",
        "            }\n",
        "            )\n",
        "  return games, total_links"
      ],
      "metadata": {
        "id": "ZB7OIs-uNKmf"
      },
      "execution_count": null,
      "outputs": []
    },
    {
      "cell_type": "markdown",
      "source": [
        "Здесь с главной страницы собираются название игры, количество рекоммендаций, текущая цена и скидка. На выходе получаем список с играми и ссылки на каждую игру, чтоб потом их запарсить."
      ],
      "metadata": {
        "id": "78Ryoh9xyVdm"
      }
    },
    {
      "cell_type": "code",
      "source": [
        "def get_prices(total_links):\n",
        "  game_data = []\n",
        "  for link in total_links:\n",
        "    url_game = link\n",
        "    req = requests.get(url_game, headers=headers)\n",
        "    borsch = bs(req.text, 'html.parser')\n",
        "    prices = borsch.find('table', class_ = 'breakdown-table').find_all('tr')[1:]\n",
        "    single_game = []\n",
        "    for price in prices:\n",
        "      single_game.append(price.find_all('td')[1].get_text(strip=True))\n",
        "    game_data.append(single_game)\n",
        "  return game_data"
      ],
      "metadata": {
        "id": "4jUo6XskH1cz"
      },
      "execution_count": null,
      "outputs": []
    },
    {
      "cell_type": "markdown",
      "source": [
        "Парсинг страницы каждой игры, получаем все изменения цен на каждую игру как список, внутри которого другие списки"
      ],
      "metadata": {
        "id": "6AwWNfkhyoAa"
      }
    },
    {
      "cell_type": "code",
      "source": [
        "def csv_saver_common(items, path):\n",
        "  with open(path, 'w', newline='') as file:\n",
        "    writer = csv.writer(file, delimiter = ';')\n",
        "    titles = ['Game title', 'Amount of recommendations', 'Current price', 'Current discount']\n",
        "    writer.writerow(titles)\n",
        "    for item in items:\n",
        "      writer.writerow([item['title'], item['recommended'], item['current_price'], item['discount']])"
      ],
      "metadata": {
        "id": "ZPGdnmuSIRo2"
      },
      "execution_count": null,
      "outputs": []
    },
    {
      "cell_type": "code",
      "source": [
        "def csv_saver_prices(prices, path):\n",
        "  with open(path, 'w', newline='') as file:\n",
        "    writer = csv.writer(file, delimiter = ';')\n",
        "    title = ['Price changes']\n",
        "    writer.writerow(list(range(1, 51, 1)))\n",
        "    for price in prices:\n",
        "      writer.writerow(price)"
      ],
      "metadata": {
        "id": "C54TjuteJMCN"
      },
      "execution_count": null,
      "outputs": []
    },
    {
      "cell_type": "markdown",
      "source": [
        "Данные записываются в csv"
      ],
      "metadata": {
        "id": "XQSaOPdryznJ"
      }
    },
    {
      "cell_type": "code",
      "source": [
        "def parser():\n",
        "  pages = list(range(1, 213, 1))\n",
        "  games = []\n",
        "  game_prices = []\n",
        "  for page in pages:\n",
        "    games.extend(get_content(params ={'page' : page})[0])\n",
        "    link = get_content(params ={'page' : page})[1]\n",
        "    game_prices.append(get_prices(link))\n",
        "  csv_saver_common(games, CSV)\n",
        "  csv_saver_prices(game_prices, CSV_2)"
      ],
      "metadata": {
        "id": "_2vhbx07tyAF"
      },
      "execution_count": null,
      "outputs": []
    },
    {
      "cell_type": "code",
      "source": [
        "parser()"
      ],
      "metadata": {
        "id": "SL_DiYckNwM8"
      },
      "execution_count": null,
      "outputs": []
    },
    {
      "cell_type": "markdown",
      "source": [
        "Запускаются все функции и листаются страницы сайта"
      ],
      "metadata": {
        "id": "tU19JE9ey7w0"
      }
    },
    {
      "cell_type": "code",
      "source": [
        "games_df = pd.read_csv('games.csv', sep=';')\n",
        "prices_df = pd.read_csv('prices.csv', sep=';')\n",
        "prices_df = prices_df.T\n",
        "games_df"
      ],
      "metadata": {
        "id": "jmE5AzagwCgW",
        "colab": {
          "base_uri": "https://localhost:8080/",
          "height": 624
        },
        "outputId": "46c0e6cd-8504-4de2-c8b5-1204b796030c"
      },
      "execution_count": null,
      "outputs": [
        {
          "output_type": "execute_result",
          "data": {
            "text/plain": [
              "                                         Game title Amount of recommendations  \\\n",
              "0                  Counter-Strike: Global Offensive                 2,999,135   \n",
              "1                               PUBG: BATTLEGROUNDS                 1,382,744   \n",
              "2           Rainbow Six Siege - Pro League Mute Set                   710,559   \n",
              "3         Rainbow Six Siege - Pro League Bandit Set                   710,559   \n",
              "4       Rainbow Six Siege - Pro League Thermite Set                   710,559   \n",
              "...                                             ...                       ...   \n",
              "10595                                        Micron                       101   \n",
              "10596                 Haunted Past: Realm of Ghosts                       101   \n",
              "10597              Last Knight: Rogue Rider Edition                       101   \n",
              "10598  Saints Row IV - Hey Ash Whatcha Playin? Pack                       101   \n",
              "10599                 Nancy Drew: The Captive Curse                       101   \n",
              "\n",
              "      Current price Current discount  \n",
              "0             $0.00                0  \n",
              "1            $29.99                0  \n",
              "2            $19.99                0  \n",
              "3            $19.99                0  \n",
              "4            $19.99                0  \n",
              "...             ...              ...  \n",
              "10595         $2.99                0  \n",
              "10596         $4.99                0  \n",
              "10597         $7.99                0  \n",
              "10598         $1.99                0  \n",
              "10599         $6.99                0  \n",
              "\n",
              "[10600 rows x 4 columns]"
            ],
            "text/html": [
              "\n",
              "  <div id=\"df-e5914a14-63f1-40de-a233-1868697a7783\">\n",
              "    <div class=\"colab-df-container\">\n",
              "      <div>\n",
              "<style scoped>\n",
              "    .dataframe tbody tr th:only-of-type {\n",
              "        vertical-align: middle;\n",
              "    }\n",
              "\n",
              "    .dataframe tbody tr th {\n",
              "        vertical-align: top;\n",
              "    }\n",
              "\n",
              "    .dataframe thead th {\n",
              "        text-align: right;\n",
              "    }\n",
              "</style>\n",
              "<table border=\"1\" class=\"dataframe\">\n",
              "  <thead>\n",
              "    <tr style=\"text-align: right;\">\n",
              "      <th></th>\n",
              "      <th>Game title</th>\n",
              "      <th>Amount of recommendations</th>\n",
              "      <th>Current price</th>\n",
              "      <th>Current discount</th>\n",
              "    </tr>\n",
              "  </thead>\n",
              "  <tbody>\n",
              "    <tr>\n",
              "      <th>0</th>\n",
              "      <td>Counter-Strike: Global Offensive</td>\n",
              "      <td>2,999,135</td>\n",
              "      <td>$0.00</td>\n",
              "      <td>0</td>\n",
              "    </tr>\n",
              "    <tr>\n",
              "      <th>1</th>\n",
              "      <td>PUBG: BATTLEGROUNDS</td>\n",
              "      <td>1,382,744</td>\n",
              "      <td>$29.99</td>\n",
              "      <td>0</td>\n",
              "    </tr>\n",
              "    <tr>\n",
              "      <th>2</th>\n",
              "      <td>Rainbow Six Siege - Pro League Mute Set</td>\n",
              "      <td>710,559</td>\n",
              "      <td>$19.99</td>\n",
              "      <td>0</td>\n",
              "    </tr>\n",
              "    <tr>\n",
              "      <th>3</th>\n",
              "      <td>Rainbow Six Siege - Pro League Bandit Set</td>\n",
              "      <td>710,559</td>\n",
              "      <td>$19.99</td>\n",
              "      <td>0</td>\n",
              "    </tr>\n",
              "    <tr>\n",
              "      <th>4</th>\n",
              "      <td>Rainbow Six Siege - Pro League Thermite Set</td>\n",
              "      <td>710,559</td>\n",
              "      <td>$19.99</td>\n",
              "      <td>0</td>\n",
              "    </tr>\n",
              "    <tr>\n",
              "      <th>...</th>\n",
              "      <td>...</td>\n",
              "      <td>...</td>\n",
              "      <td>...</td>\n",
              "      <td>...</td>\n",
              "    </tr>\n",
              "    <tr>\n",
              "      <th>10595</th>\n",
              "      <td>Micron</td>\n",
              "      <td>101</td>\n",
              "      <td>$2.99</td>\n",
              "      <td>0</td>\n",
              "    </tr>\n",
              "    <tr>\n",
              "      <th>10596</th>\n",
              "      <td>Haunted Past: Realm of Ghosts</td>\n",
              "      <td>101</td>\n",
              "      <td>$4.99</td>\n",
              "      <td>0</td>\n",
              "    </tr>\n",
              "    <tr>\n",
              "      <th>10597</th>\n",
              "      <td>Last Knight: Rogue Rider Edition</td>\n",
              "      <td>101</td>\n",
              "      <td>$7.99</td>\n",
              "      <td>0</td>\n",
              "    </tr>\n",
              "    <tr>\n",
              "      <th>10598</th>\n",
              "      <td>Saints Row IV - Hey Ash Whatcha Playin? Pack</td>\n",
              "      <td>101</td>\n",
              "      <td>$1.99</td>\n",
              "      <td>0</td>\n",
              "    </tr>\n",
              "    <tr>\n",
              "      <th>10599</th>\n",
              "      <td>Nancy Drew: The Captive Curse</td>\n",
              "      <td>101</td>\n",
              "      <td>$6.99</td>\n",
              "      <td>0</td>\n",
              "    </tr>\n",
              "  </tbody>\n",
              "</table>\n",
              "<p>10600 rows × 4 columns</p>\n",
              "</div>\n",
              "      <button class=\"colab-df-convert\" onclick=\"convertToInteractive('df-e5914a14-63f1-40de-a233-1868697a7783')\"\n",
              "              title=\"Convert this dataframe to an interactive table.\"\n",
              "              style=\"display:none;\">\n",
              "        \n",
              "  <svg xmlns=\"http://www.w3.org/2000/svg\" height=\"24px\"viewBox=\"0 0 24 24\"\n",
              "       width=\"24px\">\n",
              "    <path d=\"M0 0h24v24H0V0z\" fill=\"none\"/>\n",
              "    <path d=\"M18.56 5.44l.94 2.06.94-2.06 2.06-.94-2.06-.94-.94-2.06-.94 2.06-2.06.94zm-11 1L8.5 8.5l.94-2.06 2.06-.94-2.06-.94L8.5 2.5l-.94 2.06-2.06.94zm10 10l.94 2.06.94-2.06 2.06-.94-2.06-.94-.94-2.06-.94 2.06-2.06.94z\"/><path d=\"M17.41 7.96l-1.37-1.37c-.4-.4-.92-.59-1.43-.59-.52 0-1.04.2-1.43.59L10.3 9.45l-7.72 7.72c-.78.78-.78 2.05 0 2.83L4 21.41c.39.39.9.59 1.41.59.51 0 1.02-.2 1.41-.59l7.78-7.78 2.81-2.81c.8-.78.8-2.07 0-2.86zM5.41 20L4 18.59l7.72-7.72 1.47 1.35L5.41 20z\"/>\n",
              "  </svg>\n",
              "      </button>\n",
              "      \n",
              "  <style>\n",
              "    .colab-df-container {\n",
              "      display:flex;\n",
              "      flex-wrap:wrap;\n",
              "      gap: 12px;\n",
              "    }\n",
              "\n",
              "    .colab-df-convert {\n",
              "      background-color: #E8F0FE;\n",
              "      border: none;\n",
              "      border-radius: 50%;\n",
              "      cursor: pointer;\n",
              "      display: none;\n",
              "      fill: #1967D2;\n",
              "      height: 32px;\n",
              "      padding: 0 0 0 0;\n",
              "      width: 32px;\n",
              "    }\n",
              "\n",
              "    .colab-df-convert:hover {\n",
              "      background-color: #E2EBFA;\n",
              "      box-shadow: 0px 1px 2px rgba(60, 64, 67, 0.3), 0px 1px 3px 1px rgba(60, 64, 67, 0.15);\n",
              "      fill: #174EA6;\n",
              "    }\n",
              "\n",
              "    [theme=dark] .colab-df-convert {\n",
              "      background-color: #3B4455;\n",
              "      fill: #D2E3FC;\n",
              "    }\n",
              "\n",
              "    [theme=dark] .colab-df-convert:hover {\n",
              "      background-color: #434B5C;\n",
              "      box-shadow: 0px 1px 3px 1px rgba(0, 0, 0, 0.15);\n",
              "      filter: drop-shadow(0px 1px 2px rgba(0, 0, 0, 0.3));\n",
              "      fill: #FFFFFF;\n",
              "    }\n",
              "  </style>\n",
              "\n",
              "      <script>\n",
              "        const buttonEl =\n",
              "          document.querySelector('#df-e5914a14-63f1-40de-a233-1868697a7783 button.colab-df-convert');\n",
              "        buttonEl.style.display =\n",
              "          google.colab.kernel.accessAllowed ? 'block' : 'none';\n",
              "\n",
              "        async function convertToInteractive(key) {\n",
              "          const element = document.querySelector('#df-e5914a14-63f1-40de-a233-1868697a7783');\n",
              "          const dataTable =\n",
              "            await google.colab.kernel.invokeFunction('convertToInteractive',\n",
              "                                                     [key], {});\n",
              "          if (!dataTable) return;\n",
              "\n",
              "          const docLinkHtml = 'Like what you see? Visit the ' +\n",
              "            '<a target=\"_blank\" href=https://colab.research.google.com/notebooks/data_table.ipynb>data table notebook</a>'\n",
              "            + ' to learn more about interactive tables.';\n",
              "          element.innerHTML = '';\n",
              "          dataTable['output_type'] = 'display_data';\n",
              "          await google.colab.output.renderOutput(dataTable, element);\n",
              "          const docLink = document.createElement('div');\n",
              "          docLink.innerHTML = docLinkHtml;\n",
              "          element.appendChild(docLink);\n",
              "        }\n",
              "      </script>\n",
              "    </div>\n",
              "  </div>\n",
              "  "
            ]
          },
          "metadata": {},
          "execution_count": 9
        }
      ]
    },
    {
      "cell_type": "code",
      "source": [
        "prices = prices_df[[0]] \n",
        "for i in range(1, len(prices_df.columns)):\n",
        "  prices = pd.concat([prices, prices_df.iloc[:, i].T.to_frame().rename(columns = {i : 0})])\n",
        "prices = prices.reset_index().drop('index', axis=1)"
      ],
      "metadata": {
        "id": "GcW5BvUWLZwt"
      },
      "execution_count": null,
      "outputs": []
    },
    {
      "cell_type": "code",
      "source": [
        "total = games_df.join(prices)\n",
        "total = total.rename(columns = {0 : 'Price changes'})"
      ],
      "metadata": {
        "id": "uFphHgPOR6pN"
      },
      "execution_count": null,
      "outputs": []
    },
    {
      "cell_type": "code",
      "source": [
        "total.to_csv('total.csv', sep=';', index=False)"
      ],
      "metadata": {
        "id": "lP5Gz1R9Sqlc"
      },
      "execution_count": null,
      "outputs": []
    },
    {
      "cell_type": "markdown",
      "source": [
        "Получение итоговой таблицы"
      ],
      "metadata": {
        "id": "jCqeUdv4zInX"
      }
    },
    {
      "cell_type": "code",
      "source": [],
      "metadata": {
        "id": "6vf2GUJ1ml_z"
      },
      "execution_count": null,
      "outputs": []
    }
  ]
}